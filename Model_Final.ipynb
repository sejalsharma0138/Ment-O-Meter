{
  "cells": [
    {
      "cell_type": "markdown",
      "source": [
        "##Importing Necessary Libraries and Loading the dataset"
      ],
      "metadata": {
        "id": "WTN9sVzE1WPD"
      }
    },
    {
      "cell_type": "code",
      "execution_count": 1,
      "metadata": {
        "colab": {
          "base_uri": "https://localhost:8080/"
        },
        "id": "NI4tyPSTvTFs",
        "outputId": "e40e4389-333e-45c1-eb75-7290a5d2dc78"
      },
      "outputs": [
        {
          "output_type": "stream",
          "name": "stdout",
          "text": [
            "Requirement already satisfied: accelerate in /usr/local/lib/python3.10/dist-packages (0.27.2)\n",
            "Requirement already satisfied: numpy>=1.17 in /usr/local/lib/python3.10/dist-packages (from accelerate) (1.25.2)\n",
            "Requirement already satisfied: packaging>=20.0 in /usr/local/lib/python3.10/dist-packages (from accelerate) (23.2)\n",
            "Requirement already satisfied: psutil in /usr/local/lib/python3.10/dist-packages (from accelerate) (5.9.5)\n",
            "Requirement already satisfied: pyyaml in /usr/local/lib/python3.10/dist-packages (from accelerate) (6.0.1)\n",
            "Requirement already satisfied: torch>=1.10.0 in /usr/local/lib/python3.10/dist-packages (from accelerate) (2.1.0+cu121)\n",
            "Requirement already satisfied: huggingface-hub in /usr/local/lib/python3.10/dist-packages (from accelerate) (0.20.3)\n",
            "Requirement already satisfied: safetensors>=0.3.1 in /usr/local/lib/python3.10/dist-packages (from accelerate) (0.4.2)\n",
            "Requirement already satisfied: filelock in /usr/local/lib/python3.10/dist-packages (from torch>=1.10.0->accelerate) (3.13.1)\n",
            "Requirement already satisfied: typing-extensions in /usr/local/lib/python3.10/dist-packages (from torch>=1.10.0->accelerate) (4.9.0)\n",
            "Requirement already satisfied: sympy in /usr/local/lib/python3.10/dist-packages (from torch>=1.10.0->accelerate) (1.12)\n",
            "Requirement already satisfied: networkx in /usr/local/lib/python3.10/dist-packages (from torch>=1.10.0->accelerate) (3.2.1)\n",
            "Requirement already satisfied: jinja2 in /usr/local/lib/python3.10/dist-packages (from torch>=1.10.0->accelerate) (3.1.3)\n",
            "Requirement already satisfied: fsspec in /usr/local/lib/python3.10/dist-packages (from torch>=1.10.0->accelerate) (2023.6.0)\n",
            "Requirement already satisfied: triton==2.1.0 in /usr/local/lib/python3.10/dist-packages (from torch>=1.10.0->accelerate) (2.1.0)\n",
            "Requirement already satisfied: requests in /usr/local/lib/python3.10/dist-packages (from huggingface-hub->accelerate) (2.31.0)\n",
            "Requirement already satisfied: tqdm>=4.42.1 in /usr/local/lib/python3.10/dist-packages (from huggingface-hub->accelerate) (4.66.2)\n",
            "Requirement already satisfied: MarkupSafe>=2.0 in /usr/local/lib/python3.10/dist-packages (from jinja2->torch>=1.10.0->accelerate) (2.1.5)\n",
            "Requirement already satisfied: charset-normalizer<4,>=2 in /usr/local/lib/python3.10/dist-packages (from requests->huggingface-hub->accelerate) (3.3.2)\n",
            "Requirement already satisfied: idna<4,>=2.5 in /usr/local/lib/python3.10/dist-packages (from requests->huggingface-hub->accelerate) (3.6)\n",
            "Requirement already satisfied: urllib3<3,>=1.21.1 in /usr/local/lib/python3.10/dist-packages (from requests->huggingface-hub->accelerate) (2.0.7)\n",
            "Requirement already satisfied: certifi>=2017.4.17 in /usr/local/lib/python3.10/dist-packages (from requests->huggingface-hub->accelerate) (2024.2.2)\n",
            "Requirement already satisfied: mpmath>=0.19 in /usr/local/lib/python3.10/dist-packages (from sympy->torch>=1.10.0->accelerate) (1.3.0)\n",
            "Requirement already satisfied: transformers in /usr/local/lib/python3.10/dist-packages (4.38.1)\n",
            "Requirement already satisfied: filelock in /usr/local/lib/python3.10/dist-packages (from transformers) (3.13.1)\n",
            "Requirement already satisfied: huggingface-hub<1.0,>=0.19.3 in /usr/local/lib/python3.10/dist-packages (from transformers) (0.20.3)\n",
            "Requirement already satisfied: numpy>=1.17 in /usr/local/lib/python3.10/dist-packages (from transformers) (1.25.2)\n",
            "Requirement already satisfied: packaging>=20.0 in /usr/local/lib/python3.10/dist-packages (from transformers) (23.2)\n",
            "Requirement already satisfied: pyyaml>=5.1 in /usr/local/lib/python3.10/dist-packages (from transformers) (6.0.1)\n",
            "Requirement already satisfied: regex!=2019.12.17 in /usr/local/lib/python3.10/dist-packages (from transformers) (2023.12.25)\n",
            "Requirement already satisfied: requests in /usr/local/lib/python3.10/dist-packages (from transformers) (2.31.0)\n",
            "Requirement already satisfied: tokenizers<0.19,>=0.14 in /usr/local/lib/python3.10/dist-packages (from transformers) (0.15.2)\n",
            "Requirement already satisfied: safetensors>=0.4.1 in /usr/local/lib/python3.10/dist-packages (from transformers) (0.4.2)\n",
            "Requirement already satisfied: tqdm>=4.27 in /usr/local/lib/python3.10/dist-packages (from transformers) (4.66.2)\n",
            "Requirement already satisfied: fsspec>=2023.5.0 in /usr/local/lib/python3.10/dist-packages (from huggingface-hub<1.0,>=0.19.3->transformers) (2023.6.0)\n",
            "Requirement already satisfied: typing-extensions>=3.7.4.3 in /usr/local/lib/python3.10/dist-packages (from huggingface-hub<1.0,>=0.19.3->transformers) (4.9.0)\n",
            "Requirement already satisfied: charset-normalizer<4,>=2 in /usr/local/lib/python3.10/dist-packages (from requests->transformers) (3.3.2)\n",
            "Requirement already satisfied: idna<4,>=2.5 in /usr/local/lib/python3.10/dist-packages (from requests->transformers) (3.6)\n",
            "Requirement already satisfied: urllib3<3,>=1.21.1 in /usr/local/lib/python3.10/dist-packages (from requests->transformers) (2.0.7)\n",
            "Requirement already satisfied: certifi>=2017.4.17 in /usr/local/lib/python3.10/dist-packages (from requests->transformers) (2024.2.2)\n"
          ]
        }
      ],
      "source": [
        "!pip install -U accelerate\n",
        "!pip install -U transformers"
      ]
    },
    {
      "cell_type": "code",
      "execution_count": 2,
      "metadata": {
        "colab": {
          "base_uri": "https://localhost:8080/"
        },
        "id": "wDMKHbCbR8ED",
        "outputId": "7e521f7a-8da7-4f49-8381-6e80fc583a72"
      },
      "outputs": [
        {
          "output_type": "stream",
          "name": "stdout",
          "text": [
            "Drive already mounted at /content/drive; to attempt to forcibly remount, call drive.mount(\"/content/drive\", force_remount=True).\n"
          ]
        }
      ],
      "source": [
        "#The converted json --> Excel file is saved in the drive and mounted\n",
        "from google.colab import drive\n",
        "drive.mount('/content/drive')"
      ]
    },
    {
      "cell_type": "code",
      "execution_count": 3,
      "metadata": {
        "colab": {
          "base_uri": "https://localhost:8080/"
        },
        "id": "YSn6q_6jweUN",
        "outputId": "bfa229d9-eb2e-46ff-a8ed-d328f11abd96"
      },
      "outputs": [
        {
          "output_type": "execute_result",
          "data": {
            "text/plain": [
              "Index(['post_title', 'post_text', 'annotations.1', 'annotations.2',\n",
              "       'annotations.3', 'annotations.4', 'annotations.5', 'annotations.6',\n",
              "       'annotations.7', 'annotations.8', 'annotations.9'],\n",
              "      dtype='object')"
            ]
          },
          "metadata": {},
          "execution_count": 3
        }
      ],
      "source": [
        "# Reading the file contents and creating a dataframe\n",
        "import pandas as pd\n",
        "\n",
        "df = pd.read_excel('/content/drive/My Drive/output_excel_file.xlsx')\n",
        "\n",
        "df.columns"
      ]
    },
    {
      "cell_type": "code",
      "execution_count": 4,
      "metadata": {
        "colab": {
          "base_uri": "https://localhost:8080/"
        },
        "id": "18F38NfTwq5k",
        "outputId": "ffad7490-269c-453b-e4ba-fff5f1a07092"
      },
      "outputs": [
        {
          "output_type": "stream",
          "name": "stdout",
          "text": [
            "annotations.1    int64\n",
            "annotations.2    int64\n",
            "annotations.3    int64\n",
            "annotations.4    int64\n",
            "annotations.5    int64\n",
            "annotations.6    int64\n",
            "annotations.7    int64\n",
            "annotations.8    int64\n",
            "annotations.9    int64\n",
            "dtype: object\n"
          ]
        }
      ],
      "source": [
        "# Converting the labels to resonable format\n",
        "columns_to_convert = ['annotations.1', 'annotations.2', 'annotations.3', 'annotations.4', 'annotations.5', 'annotations.6', 'annotations.7', 'annotations.8', 'annotations.9']\n",
        "\n",
        "# Iterate through each column and convert 'yes' to 1 and 'no' to 0\n",
        "for col in columns_to_convert:\n",
        "    df[col] = df[col].replace({'yes': 1, 'no': 0, ' yes':1,' no':0})\n",
        "\n",
        "print(df[columns_to_convert].dtypes)"
      ]
    },
    {
      "cell_type": "code",
      "execution_count": 5,
      "metadata": {
        "colab": {
          "base_uri": "https://localhost:8080/",
          "height": 362
        },
        "id": "oaPWWJfqwu35",
        "outputId": "feb5646e-6de7-45a5-f87c-1467ab739bd3"
      },
      "outputs": [
        {
          "output_type": "execute_result",
          "data": {
            "text/plain": [
              "                                          post_title  \\\n",
              "0                     I don't feel original anymore.   \n",
              "1  I don’t have anyone to talk to and I don’t kno...   \n",
              "2    Stuck between moving forward and killing myself   \n",
              "3          I need help on how to help my girlfriend.   \n",
              "4           I've been feeling this way for some tine   \n",
              "\n",
              "                                           post_text  annotations.1  \\\n",
              "0  When I was in high school a few years back, I ...              1   \n",
              "1  Nine years ago I was diagnosed with depression...              1   \n",
              "2  Some background information: My GF of almost 3...              1   \n",
              "3  My girlfriend ,of about 3 months now ,has been...              1   \n",
              "4  I'm alway feeling like this. It doesn't even m...              1   \n",
              "\n",
              "   annotations.2  annotations.3  annotations.4  annotations.5  annotations.6  \\\n",
              "0              0              1              1              0              0   \n",
              "1              1              0              0              1              0   \n",
              "2              1              1              1              0              0   \n",
              "3              1              0              0              0              0   \n",
              "4              1              0              0              0              0   \n",
              "\n",
              "   annotations.7  annotations.8  annotations.9  \n",
              "0              0              0              0  \n",
              "1              0              0              0  \n",
              "2              1              0              0  \n",
              "3              1              0              0  \n",
              "4              0              0              0  "
            ],
            "text/html": [
              "\n",
              "  <div id=\"df-fe60b1a2-d35c-4796-9c6f-0eeee85dcfd9\" class=\"colab-df-container\">\n",
              "    <div>\n",
              "<style scoped>\n",
              "    .dataframe tbody tr th:only-of-type {\n",
              "        vertical-align: middle;\n",
              "    }\n",
              "\n",
              "    .dataframe tbody tr th {\n",
              "        vertical-align: top;\n",
              "    }\n",
              "\n",
              "    .dataframe thead th {\n",
              "        text-align: right;\n",
              "    }\n",
              "</style>\n",
              "<table border=\"1\" class=\"dataframe\">\n",
              "  <thead>\n",
              "    <tr style=\"text-align: right;\">\n",
              "      <th></th>\n",
              "      <th>post_title</th>\n",
              "      <th>post_text</th>\n",
              "      <th>annotations.1</th>\n",
              "      <th>annotations.2</th>\n",
              "      <th>annotations.3</th>\n",
              "      <th>annotations.4</th>\n",
              "      <th>annotations.5</th>\n",
              "      <th>annotations.6</th>\n",
              "      <th>annotations.7</th>\n",
              "      <th>annotations.8</th>\n",
              "      <th>annotations.9</th>\n",
              "    </tr>\n",
              "  </thead>\n",
              "  <tbody>\n",
              "    <tr>\n",
              "      <th>0</th>\n",
              "      <td>I don't feel original anymore.</td>\n",
              "      <td>When I was in high school a few years back, I ...</td>\n",
              "      <td>1</td>\n",
              "      <td>0</td>\n",
              "      <td>1</td>\n",
              "      <td>1</td>\n",
              "      <td>0</td>\n",
              "      <td>0</td>\n",
              "      <td>0</td>\n",
              "      <td>0</td>\n",
              "      <td>0</td>\n",
              "    </tr>\n",
              "    <tr>\n",
              "      <th>1</th>\n",
              "      <td>I don’t have anyone to talk to and I don’t kno...</td>\n",
              "      <td>Nine years ago I was diagnosed with depression...</td>\n",
              "      <td>1</td>\n",
              "      <td>1</td>\n",
              "      <td>0</td>\n",
              "      <td>0</td>\n",
              "      <td>1</td>\n",
              "      <td>0</td>\n",
              "      <td>0</td>\n",
              "      <td>0</td>\n",
              "      <td>0</td>\n",
              "    </tr>\n",
              "    <tr>\n",
              "      <th>2</th>\n",
              "      <td>Stuck between moving forward and killing myself</td>\n",
              "      <td>Some background information: My GF of almost 3...</td>\n",
              "      <td>1</td>\n",
              "      <td>1</td>\n",
              "      <td>1</td>\n",
              "      <td>1</td>\n",
              "      <td>0</td>\n",
              "      <td>0</td>\n",
              "      <td>1</td>\n",
              "      <td>0</td>\n",
              "      <td>0</td>\n",
              "    </tr>\n",
              "    <tr>\n",
              "      <th>3</th>\n",
              "      <td>I need help on how to help my girlfriend.</td>\n",
              "      <td>My girlfriend ,of about 3 months now ,has been...</td>\n",
              "      <td>1</td>\n",
              "      <td>1</td>\n",
              "      <td>0</td>\n",
              "      <td>0</td>\n",
              "      <td>0</td>\n",
              "      <td>0</td>\n",
              "      <td>1</td>\n",
              "      <td>0</td>\n",
              "      <td>0</td>\n",
              "    </tr>\n",
              "    <tr>\n",
              "      <th>4</th>\n",
              "      <td>I've been feeling this way for some tine</td>\n",
              "      <td>I'm alway feeling like this. It doesn't even m...</td>\n",
              "      <td>1</td>\n",
              "      <td>1</td>\n",
              "      <td>0</td>\n",
              "      <td>0</td>\n",
              "      <td>0</td>\n",
              "      <td>0</td>\n",
              "      <td>0</td>\n",
              "      <td>0</td>\n",
              "      <td>0</td>\n",
              "    </tr>\n",
              "  </tbody>\n",
              "</table>\n",
              "</div>\n",
              "    <div class=\"colab-df-buttons\">\n",
              "\n",
              "  <div class=\"colab-df-container\">\n",
              "    <button class=\"colab-df-convert\" onclick=\"convertToInteractive('df-fe60b1a2-d35c-4796-9c6f-0eeee85dcfd9')\"\n",
              "            title=\"Convert this dataframe to an interactive table.\"\n",
              "            style=\"display:none;\">\n",
              "\n",
              "  <svg xmlns=\"http://www.w3.org/2000/svg\" height=\"24px\" viewBox=\"0 -960 960 960\">\n",
              "    <path d=\"M120-120v-720h720v720H120Zm60-500h600v-160H180v160Zm220 220h160v-160H400v160Zm0 220h160v-160H400v160ZM180-400h160v-160H180v160Zm440 0h160v-160H620v160ZM180-180h160v-160H180v160Zm440 0h160v-160H620v160Z\"/>\n",
              "  </svg>\n",
              "    </button>\n",
              "\n",
              "  <style>\n",
              "    .colab-df-container {\n",
              "      display:flex;\n",
              "      gap: 12px;\n",
              "    }\n",
              "\n",
              "    .colab-df-convert {\n",
              "      background-color: #E8F0FE;\n",
              "      border: none;\n",
              "      border-radius: 50%;\n",
              "      cursor: pointer;\n",
              "      display: none;\n",
              "      fill: #1967D2;\n",
              "      height: 32px;\n",
              "      padding: 0 0 0 0;\n",
              "      width: 32px;\n",
              "    }\n",
              "\n",
              "    .colab-df-convert:hover {\n",
              "      background-color: #E2EBFA;\n",
              "      box-shadow: 0px 1px 2px rgba(60, 64, 67, 0.3), 0px 1px 3px 1px rgba(60, 64, 67, 0.15);\n",
              "      fill: #174EA6;\n",
              "    }\n",
              "\n",
              "    .colab-df-buttons div {\n",
              "      margin-bottom: 4px;\n",
              "    }\n",
              "\n",
              "    [theme=dark] .colab-df-convert {\n",
              "      background-color: #3B4455;\n",
              "      fill: #D2E3FC;\n",
              "    }\n",
              "\n",
              "    [theme=dark] .colab-df-convert:hover {\n",
              "      background-color: #434B5C;\n",
              "      box-shadow: 0px 1px 3px 1px rgba(0, 0, 0, 0.15);\n",
              "      filter: drop-shadow(0px 1px 2px rgba(0, 0, 0, 0.3));\n",
              "      fill: #FFFFFF;\n",
              "    }\n",
              "  </style>\n",
              "\n",
              "    <script>\n",
              "      const buttonEl =\n",
              "        document.querySelector('#df-fe60b1a2-d35c-4796-9c6f-0eeee85dcfd9 button.colab-df-convert');\n",
              "      buttonEl.style.display =\n",
              "        google.colab.kernel.accessAllowed ? 'block' : 'none';\n",
              "\n",
              "      async function convertToInteractive(key) {\n",
              "        const element = document.querySelector('#df-fe60b1a2-d35c-4796-9c6f-0eeee85dcfd9');\n",
              "        const dataTable =\n",
              "          await google.colab.kernel.invokeFunction('convertToInteractive',\n",
              "                                                    [key], {});\n",
              "        if (!dataTable) return;\n",
              "\n",
              "        const docLinkHtml = 'Like what you see? Visit the ' +\n",
              "          '<a target=\"_blank\" href=https://colab.research.google.com/notebooks/data_table.ipynb>data table notebook</a>'\n",
              "          + ' to learn more about interactive tables.';\n",
              "        element.innerHTML = '';\n",
              "        dataTable['output_type'] = 'display_data';\n",
              "        await google.colab.output.renderOutput(dataTable, element);\n",
              "        const docLink = document.createElement('div');\n",
              "        docLink.innerHTML = docLinkHtml;\n",
              "        element.appendChild(docLink);\n",
              "      }\n",
              "    </script>\n",
              "  </div>\n",
              "\n",
              "\n",
              "<div id=\"df-afcff818-7949-4e39-8e83-d67af69cb22a\">\n",
              "  <button class=\"colab-df-quickchart\" onclick=\"quickchart('df-afcff818-7949-4e39-8e83-d67af69cb22a')\"\n",
              "            title=\"Suggest charts\"\n",
              "            style=\"display:none;\">\n",
              "\n",
              "<svg xmlns=\"http://www.w3.org/2000/svg\" height=\"24px\"viewBox=\"0 0 24 24\"\n",
              "     width=\"24px\">\n",
              "    <g>\n",
              "        <path d=\"M19 3H5c-1.1 0-2 .9-2 2v14c0 1.1.9 2 2 2h14c1.1 0 2-.9 2-2V5c0-1.1-.9-2-2-2zM9 17H7v-7h2v7zm4 0h-2V7h2v10zm4 0h-2v-4h2v4z\"/>\n",
              "    </g>\n",
              "</svg>\n",
              "  </button>\n",
              "\n",
              "<style>\n",
              "  .colab-df-quickchart {\n",
              "      --bg-color: #E8F0FE;\n",
              "      --fill-color: #1967D2;\n",
              "      --hover-bg-color: #E2EBFA;\n",
              "      --hover-fill-color: #174EA6;\n",
              "      --disabled-fill-color: #AAA;\n",
              "      --disabled-bg-color: #DDD;\n",
              "  }\n",
              "\n",
              "  [theme=dark] .colab-df-quickchart {\n",
              "      --bg-color: #3B4455;\n",
              "      --fill-color: #D2E3FC;\n",
              "      --hover-bg-color: #434B5C;\n",
              "      --hover-fill-color: #FFFFFF;\n",
              "      --disabled-bg-color: #3B4455;\n",
              "      --disabled-fill-color: #666;\n",
              "  }\n",
              "\n",
              "  .colab-df-quickchart {\n",
              "    background-color: var(--bg-color);\n",
              "    border: none;\n",
              "    border-radius: 50%;\n",
              "    cursor: pointer;\n",
              "    display: none;\n",
              "    fill: var(--fill-color);\n",
              "    height: 32px;\n",
              "    padding: 0;\n",
              "    width: 32px;\n",
              "  }\n",
              "\n",
              "  .colab-df-quickchart:hover {\n",
              "    background-color: var(--hover-bg-color);\n",
              "    box-shadow: 0 1px 2px rgba(60, 64, 67, 0.3), 0 1px 3px 1px rgba(60, 64, 67, 0.15);\n",
              "    fill: var(--button-hover-fill-color);\n",
              "  }\n",
              "\n",
              "  .colab-df-quickchart-complete:disabled,\n",
              "  .colab-df-quickchart-complete:disabled:hover {\n",
              "    background-color: var(--disabled-bg-color);\n",
              "    fill: var(--disabled-fill-color);\n",
              "    box-shadow: none;\n",
              "  }\n",
              "\n",
              "  .colab-df-spinner {\n",
              "    border: 2px solid var(--fill-color);\n",
              "    border-color: transparent;\n",
              "    border-bottom-color: var(--fill-color);\n",
              "    animation:\n",
              "      spin 1s steps(1) infinite;\n",
              "  }\n",
              "\n",
              "  @keyframes spin {\n",
              "    0% {\n",
              "      border-color: transparent;\n",
              "      border-bottom-color: var(--fill-color);\n",
              "      border-left-color: var(--fill-color);\n",
              "    }\n",
              "    20% {\n",
              "      border-color: transparent;\n",
              "      border-left-color: var(--fill-color);\n",
              "      border-top-color: var(--fill-color);\n",
              "    }\n",
              "    30% {\n",
              "      border-color: transparent;\n",
              "      border-left-color: var(--fill-color);\n",
              "      border-top-color: var(--fill-color);\n",
              "      border-right-color: var(--fill-color);\n",
              "    }\n",
              "    40% {\n",
              "      border-color: transparent;\n",
              "      border-right-color: var(--fill-color);\n",
              "      border-top-color: var(--fill-color);\n",
              "    }\n",
              "    60% {\n",
              "      border-color: transparent;\n",
              "      border-right-color: var(--fill-color);\n",
              "    }\n",
              "    80% {\n",
              "      border-color: transparent;\n",
              "      border-right-color: var(--fill-color);\n",
              "      border-bottom-color: var(--fill-color);\n",
              "    }\n",
              "    90% {\n",
              "      border-color: transparent;\n",
              "      border-bottom-color: var(--fill-color);\n",
              "    }\n",
              "  }\n",
              "</style>\n",
              "\n",
              "  <script>\n",
              "    async function quickchart(key) {\n",
              "      const quickchartButtonEl =\n",
              "        document.querySelector('#' + key + ' button');\n",
              "      quickchartButtonEl.disabled = true;  // To prevent multiple clicks.\n",
              "      quickchartButtonEl.classList.add('colab-df-spinner');\n",
              "      try {\n",
              "        const charts = await google.colab.kernel.invokeFunction(\n",
              "            'suggestCharts', [key], {});\n",
              "      } catch (error) {\n",
              "        console.error('Error during call to suggestCharts:', error);\n",
              "      }\n",
              "      quickchartButtonEl.classList.remove('colab-df-spinner');\n",
              "      quickchartButtonEl.classList.add('colab-df-quickchart-complete');\n",
              "    }\n",
              "    (() => {\n",
              "      let quickchartButtonEl =\n",
              "        document.querySelector('#df-afcff818-7949-4e39-8e83-d67af69cb22a button');\n",
              "      quickchartButtonEl.style.display =\n",
              "        google.colab.kernel.accessAllowed ? 'block' : 'none';\n",
              "    })();\n",
              "  </script>\n",
              "</div>\n",
              "\n",
              "    </div>\n",
              "  </div>\n"
            ],
            "application/vnd.google.colaboratory.intrinsic+json": {
              "type": "dataframe",
              "variable_name": "df",
              "summary": "{\n  \"name\": \"df\",\n  \"rows\": 1996,\n  \"fields\": [\n    {\n      \"column\": \"post_title\",\n      \"properties\": {\n        \"dtype\": \"string\",\n        \"num_unique_values\": 1966,\n        \"samples\": [\n          \"I'm scared...\",\n          \"Can a 14yo have depression and anxiety\",\n          \"I have been severely depressed and it is affecting my school work and looking for advice\"\n        ],\n        \"semantic_type\": \"\",\n        \"description\": \"\"\n      }\n    },\n    {\n      \"column\": \"post_text\",\n      \"properties\": {\n        \"dtype\": \"string\",\n        \"num_unique_values\": 1995,\n        \"samples\": [\n          \"I\\u2019m 19yr girl. I\\u2019ve always had a rocky life. I\\u2019ve had an eating disorder since I was in 6th grade and,I\\u2019ve always thought that I was never enough.Then in 2017 I went through this long period of having severe health anxiety to the point where I would think my hand would stop working if I thought about it too much(Ik it\\u2019s weird)...lately it\\u2019s been my bf who\\u2019s made me feel like I wanna die. He has basically been cheating on me this whole relationship.we\\u2019ve been together for a year and 6 months. Today he told me he almost had sex with some random woman he met on the street. \\n(Basically she asked him if he wanted to have sex and agreed then he changed his mind )Before this he has only cheated on me with people online,but this really destroyed me.i basically have no self worth anymore.ive been emotionally wrecked by this.i feel like I have no reason to live.Hes my only support,if I leave him I will be alone.i just need some help rn .I\\u2019ve felt depressed for many years now but I feel like nothing ever seems to get better.\",\n          \"I'm 5 foot and 11 inches and I weigh 110-115 pounds. I'm 16 years old, and I hate my body. I feel like a fat piece of shit, and no one will ever find me attractive because of it. I've been wanting to starve myself for a while now, but I know it's extremely dangerous. I feel like my weight could keep me from finding a girlfriend, and I'm unsure what to do about it. I feel like the skinnier I get, the more attractive I become. I just want some advise or support on the situation.\",\n          \"I started taking Lexapro 5 weeks ago at 5mg/day for situational or reactionary depression which isn\\u2019t a major clinical depression according to my doctor. I had the initial side effects as predicted like sleepiness and vivid dreams, etc. which resolved in a couple of weeks as well as all the negative feelings and dark moods of loneliness etc. plus the anxiety and feeling overwhelmed which have mostly gone, however I\\u2019ve been feeling extremely unmotivated and low that I\\u2019m barely making it to work and the rest of the time I\\u2019m in bed. My sleep was also quite bad feeling unrested in the mornings. Normally I drink one coffee and one tea a day but recently I\\u2019ve been taking triple shot espressos and I\\u2019m not feeling any difference. My sugar and carb consumption has also increased. Last Monday when I had my follow up with the doctor he decided to increase the dose to 10mg/day. I\\u2019ve been on 10mg/day for almost a week now and probably my sleep quality has improved a little bit but still very very unmotivated and low. I\\u2019m going through upsetting phases with my family which doesn\\u2019t help and while I had managed to keep my life under control for a while, things have got out of hand again and my room is a total mess. I\\u2019ve been pushing myself to get things done but I\\u2019m making no progress. There\\u2019s barely any space in the room to walk. My next follow up is on Friday but I don\\u2019t want to stay miserable till then. Please help. :(\"\n        ],\n        \"semantic_type\": \"\",\n        \"description\": \"\"\n      }\n    },\n    {\n      \"column\": \"annotations.1\",\n      \"properties\": {\n        \"dtype\": \"number\",\n        \"std\": 0,\n        \"min\": 0,\n        \"max\": 1,\n        \"num_unique_values\": 2,\n        \"samples\": [\n          0,\n          1\n        ],\n        \"semantic_type\": \"\",\n        \"description\": \"\"\n      }\n    },\n    {\n      \"column\": \"annotations.2\",\n      \"properties\": {\n        \"dtype\": \"number\",\n        \"std\": 0,\n        \"min\": 0,\n        \"max\": 1,\n        \"num_unique_values\": 2,\n        \"samples\": [\n          1,\n          0\n        ],\n        \"semantic_type\": \"\",\n        \"description\": \"\"\n      }\n    },\n    {\n      \"column\": \"annotations.3\",\n      \"properties\": {\n        \"dtype\": \"number\",\n        \"std\": 0,\n        \"min\": 0,\n        \"max\": 1,\n        \"num_unique_values\": 2,\n        \"samples\": [\n          0,\n          1\n        ],\n        \"semantic_type\": \"\",\n        \"description\": \"\"\n      }\n    },\n    {\n      \"column\": \"annotations.4\",\n      \"properties\": {\n        \"dtype\": \"number\",\n        \"std\": 0,\n        \"min\": 0,\n        \"max\": 1,\n        \"num_unique_values\": 2,\n        \"samples\": [\n          0,\n          1\n        ],\n        \"semantic_type\": \"\",\n        \"description\": \"\"\n      }\n    },\n    {\n      \"column\": \"annotations.5\",\n      \"properties\": {\n        \"dtype\": \"number\",\n        \"std\": 0,\n        \"min\": 0,\n        \"max\": 1,\n        \"num_unique_values\": 2,\n        \"samples\": [\n          1,\n          0\n        ],\n        \"semantic_type\": \"\",\n        \"description\": \"\"\n      }\n    },\n    {\n      \"column\": \"annotations.6\",\n      \"properties\": {\n        \"dtype\": \"number\",\n        \"std\": 0,\n        \"min\": 0,\n        \"max\": 1,\n        \"num_unique_values\": 2,\n        \"samples\": [\n          1,\n          0\n        ],\n        \"semantic_type\": \"\",\n        \"description\": \"\"\n      }\n    },\n    {\n      \"column\": \"annotations.7\",\n      \"properties\": {\n        \"dtype\": \"number\",\n        \"std\": 0,\n        \"min\": 0,\n        \"max\": 1,\n        \"num_unique_values\": 2,\n        \"samples\": [\n          1,\n          0\n        ],\n        \"semantic_type\": \"\",\n        \"description\": \"\"\n      }\n    },\n    {\n      \"column\": \"annotations.8\",\n      \"properties\": {\n        \"dtype\": \"number\",\n        \"std\": 0,\n        \"min\": 0,\n        \"max\": 1,\n        \"num_unique_values\": 2,\n        \"samples\": [\n          1,\n          0\n        ],\n        \"semantic_type\": \"\",\n        \"description\": \"\"\n      }\n    },\n    {\n      \"column\": \"annotations.9\",\n      \"properties\": {\n        \"dtype\": \"number\",\n        \"std\": 0,\n        \"min\": 0,\n        \"max\": 1,\n        \"num_unique_values\": 2,\n        \"samples\": [\n          1,\n          0\n        ],\n        \"semantic_type\": \"\",\n        \"description\": \"\"\n      }\n    }\n  ]\n}"
            }
          },
          "metadata": {},
          "execution_count": 5
        }
      ],
      "source": [
        "df.head()"
      ]
    },
    {
      "cell_type": "markdown",
      "source": [
        "## Exploratory Data Analysis"
      ],
      "metadata": {
        "id": "Zepx3v-c2RHi"
      }
    },
    {
      "cell_type": "code",
      "execution_count": 6,
      "metadata": {
        "colab": {
          "base_uri": "https://localhost:8080/"
        },
        "id": "OSa7HW1bwwdj",
        "outputId": "44574b0e-8abe-4115-c1c1-ad91e06a4c9c"
      },
      "outputs": [
        {
          "output_type": "stream",
          "name": "stdout",
          "text": [
            "<class 'pandas.core.frame.DataFrame'>\n",
            "RangeIndex: 1996 entries, 0 to 1995\n",
            "Data columns (total 11 columns):\n",
            " #   Column         Non-Null Count  Dtype \n",
            "---  ------         --------------  ----- \n",
            " 0   post_title     1996 non-null   object\n",
            " 1   post_text      1996 non-null   object\n",
            " 2   annotations.1  1996 non-null   int64 \n",
            " 3   annotations.2  1996 non-null   int64 \n",
            " 4   annotations.3  1996 non-null   int64 \n",
            " 5   annotations.4  1996 non-null   int64 \n",
            " 6   annotations.5  1996 non-null   int64 \n",
            " 7   annotations.6  1996 non-null   int64 \n",
            " 8   annotations.7  1996 non-null   int64 \n",
            " 9   annotations.8  1996 non-null   int64 \n",
            " 10  annotations.9  1996 non-null   int64 \n",
            "dtypes: int64(9), object(2)\n",
            "memory usage: 171.7+ KB\n"
          ]
        },
        {
          "output_type": "execute_result",
          "data": {
            "text/plain": [
              "0"
            ]
          },
          "metadata": {},
          "execution_count": 6
        }
      ],
      "source": [
        "df.shape\n",
        "df.info()\n",
        "\n",
        "df.duplicated().sum()"
      ]
    },
    {
      "cell_type": "code",
      "execution_count": 7,
      "metadata": {
        "colab": {
          "base_uri": "https://localhost:8080/",
          "height": 642
        },
        "id": "nLlLxyaPj745",
        "outputId": "48a3de32-b425-40e0-f759-87f281e2335a"
      },
      "outputs": [
        {
          "output_type": "stream",
          "name": "stderr",
          "text": [
            "<ipython-input-7-aa03b2a2a69f>:26: UserWarning: FixedFormatter should only be used together with FixedLocator\n",
            "  ax.set_xticklabels(label_names, rotation=45, ha='right')\n"
          ]
        },
        {
          "output_type": "display_data",
          "data": {
            "text/plain": [
              "<Figure size 800x600 with 1 Axes>"
            ],
            "image/png": "[encoded data removed]"
          },
          "metadata": {}
        }
      ],
      "source": [
        "# Code to visualize different mental health annotators and their corresponding yes - no counts\n",
        "import matplotlib.pyplot as plt\n",
        "import numpy as np\n",
        "\n",
        "# Assuming you have multi-label annotations for the entire dataset\n",
        "full_labels = df[columns_to_convert]\n",
        "\n",
        "# Count the occurrences of zeros and ones for each label\n",
        "zeros_counts = np.sum(full_labels == 0, axis=0)\n",
        "ones_counts = np.sum(full_labels == 1, axis=0)\n",
        "\n",
        "# Labels for each binary label\n",
        "label_names = ['annotation.1', 'annotation.2', 'annotation.3', 'annotation.4', 'annotation.5', 'annotation.6', 'annotation.7', 'annotation.8', 'annotation.9']\n",
        "\n",
        "# Plotting\n",
        "fig, ax = plt.subplots(figsize=(8, 6))\n",
        "\n",
        "# Entire dataset bar plot\n",
        "ax.bar(label_names, zeros_counts, color='green', label='No')\n",
        "ax.bar(label_names, ones_counts, bottom=zeros_counts, color='red', label='Yes')\n",
        "\n",
        "ax.set_title('Mental Health Indicators ')\n",
        "ax.set_ylabel('Count')\n",
        "ax.legend()\n",
        "\n",
        "# Rotate x-axis labels for better readability\n",
        "ax.set_xticklabels(label_names, rotation=45, ha='right')\n",
        "\n",
        "plt.tight_layout()\n",
        "plt.show()\n",
        "\n"
      ]
    },
    {
      "cell_type": "code",
      "execution_count": 8,
      "metadata": {
        "colab": {
          "base_uri": "https://localhost:8080/",
          "height": 472
        },
        "id": "wS_W1HTTjbjD",
        "outputId": "d21514b7-8905-4438-a472-b3a8cd8fd9c2"
      },
      "outputs": [
        {
          "output_type": "display_data",
          "data": {
            "text/plain": [
              "<Figure size 640x480 with 1 Axes>"
            ],
            "image/png": "[encoded data removed]"
          },
          "metadata": {}
        }
      ],
      "source": [
        "import matplotlib.pyplot as plt\n",
        "\n",
        "word_count_title = df['post_title'].apply(lambda x: len(str(x).split()))\n",
        "\n",
        "# Plot the histogram for word count\n",
        "word_count_title.plot.hist(bins=50)\n",
        "plt.title('Post Title Length Distribution')\n",
        "plt.xlabel('Length of Post Title(Splitted by Spaces)')\n",
        "plt.ylabel('Frequency')\n",
        "plt.show()"
      ]
    },
    {
      "cell_type": "code",
      "execution_count": 9,
      "metadata": {
        "colab": {
          "base_uri": "https://localhost:8080/",
          "height": 472
        },
        "id": "E5zx1r8Hjecb",
        "outputId": "f48f9589-50fb-4fda-f46f-9875eb190cce"
      },
      "outputs": [
        {
          "output_type": "display_data",
          "data": {
            "text/plain": [
              "<Figure size 640x480 with 1 Axes>"
            ],
            "image/png": "[encoded data removed]"
          },
          "metadata": {}
        }
      ],
      "source": [
        "word_count_text = df['post_text'].apply(lambda x: len(str(x).split()))\n",
        "\n",
        "# Plot the histogram for word count\n",
        "word_count_text.plot.hist(bins=50)\n",
        "plt.title('Post Text Length Distribution')\n",
        "plt.xlabel('Length of Post Text(splitted by spaces)')\n",
        "plt.ylabel('Frequency')\n",
        "plt.show()"
      ]
    },
    {
      "cell_type": "markdown",
      "metadata": {
        "id": "XXpoDVemkL2F"
      },
      "source": [
        "## Data Pre-processing and Text-Cleaning"
      ]
    },
    {
      "cell_type": "code",
      "execution_count": 10,
      "metadata": {
        "colab": {
          "base_uri": "https://localhost:8080/"
        },
        "id": "uE9CJTmBRAfE",
        "outputId": "27e2de5f-ab4e-4a74-bede-cc468e00406e"
      },
      "outputs": [
        {
          "output_type": "stream",
          "name": "stdout",
          "text": [
            "Requirement already satisfied: emoji in /usr/local/lib/python3.10/dist-packages (2.10.1)\n"
          ]
        }
      ],
      "source": [
        "! pip install emoji"
      ]
    },
    {
      "cell_type": "code",
      "execution_count": 11,
      "metadata": {
        "id": "nb1VCCwByD5X"
      },
      "outputs": [],
      "source": [
        "import torch\n",
        "from transformers import DistilBertTokenizer, AutoTokenizer\n",
        "from transformers import DistilBertForSequenceClassification, AutoModelForSequenceClassification\n",
        "from sklearn.model_selection import train_test_split\n",
        "from torch.utils.data import Dataset"
      ]
    },
    {
      "cell_type": "code",
      "execution_count": 12,
      "metadata": {
        "colab": {
          "base_uri": "https://localhost:8080/"
        },
        "id": "h0wF8OanRloU",
        "outputId": "a40407cb-e74a-4e2b-e0fa-20e8dd5b1fc9"
      },
      "outputs": [
        {
          "output_type": "stream",
          "name": "stdout",
          "text": [
            "Number of rows in training set: 1396\n",
            "Number of rows in validation set: 200\n",
            "Number of rows in test set: 400\n"
          ]
        }
      ],
      "source": [
        "from sklearn.model_selection import train_test_split\n",
        "\n",
        "# Splitting the dataset into train, validation, and test sets\n",
        "test_split = 0.2  # 20% of the original dataset for test\n",
        "val_split = 0.1   # 10% of the original dataset for validation\n",
        "\n",
        "# Splitting the original dataset into train and test sets\n",
        "train_df, test_df = train_test_split(df, test_size=test_split, random_state=42)\n",
        "\n",
        "# Further splitting the test set into validation and test sets\n",
        "train_df, val_df = train_test_split(train_df, test_size=val_split/(1-test_split), random_state=42)\n",
        "\n",
        "# Display the number of rows in each set\n",
        "print(f\"Number of rows in training set: {len(train_df)}\")\n",
        "print(f\"Number of rows in validation set: {len(val_df)}\")\n",
        "print(f\"Number of rows in test set: {len(test_df)}\")\n"
      ]
    },
    {
      "cell_type": "code",
      "execution_count": 13,
      "metadata": {
        "colab": {
          "base_uri": "https://localhost:8080/",
          "height": 379
        },
        "id": "rq1kOyOtRAmw",
        "outputId": "fc3a2fbc-4538-432b-9b71-a3477ad40b5c"
      },
      "outputs": [
        {
          "output_type": "execute_result",
          "data": {
            "text/plain": [
              "                                             post_title  \\\n",
              "492                           How do I become a person?   \n",
              "1487  I don’t want to go swimming at the lake tonigh...   \n",
              "1860  Does anyone else feel like the world is incred...   \n",
              "243               Is anyone in the same position as me?   \n",
              "1713  Depression killing right now. I could use some...   \n",
              "\n",
              "                                              post_text  annotations.1  \\\n",
              "492   Ok That might be a weird question but I needed...              1   \n",
              "1487  But it seems like I’ve been crying out for hel...              1   \n",
              "1860  I’ve never been treated nicely by anyone. Even...              1   \n",
              "243   Hey this might be long but oh welll we all lov...              1   \n",
              "1713  Hi, I'm Mark, I'm 22 and I live near Berlin, G...              1   \n",
              "\n",
              "      annotations.2  annotations.3  annotations.4  annotations.5  \\\n",
              "492               1              1              1              0   \n",
              "1487              0              0              0              0   \n",
              "1860              0              0              0              0   \n",
              "243               1              0              1              0   \n",
              "1713              1              0              0              0   \n",
              "\n",
              "      annotations.6  annotations.7  annotations.8  annotations.9  \n",
              "492               0              0              0              0  \n",
              "1487              0              1              0              0  \n",
              "1860              0              1              0              0  \n",
              "243               0              1              0              0  \n",
              "1713              0              1              0              0  "
            ],
            "text/html": [
              "\n",
              "  <div id=\"df-49c188be-3812-4d3d-81ed-0aeb088a8ecd\" class=\"colab-df-container\">\n",
              "    <div>\n",
              "<style scoped>\n",
              "    .dataframe tbody tr th:only-of-type {\n",
              "        vertical-align: middle;\n",
              "    }\n",
              "\n",
              "    .dataframe tbody tr th {\n",
              "        vertical-align: top;\n",
              "    }\n",
              "\n",
              "    .dataframe thead th {\n",
              "        text-align: right;\n",
              "    }\n",
              "</style>\n",
              "<table border=\"1\" class=\"dataframe\">\n",
              "  <thead>\n",
              "    <tr style=\"text-align: right;\">\n",
              "      <th></th>\n",
              "      <th>post_title</th>\n",
              "      <th>post_text</th>\n",
              "      <th>annotations.1</th>\n",
              "      <th>annotations.2</th>\n",
              "      <th>annotations.3</th>\n",
              "      <th>annotations.4</th>\n",
              "      <th>annotations.5</th>\n",
              "      <th>annotations.6</th>\n",
              "      <th>annotations.7</th>\n",
              "      <th>annotations.8</th>\n",
              "      <th>annotations.9</th>\n",
              "    </tr>\n",
              "  </thead>\n",
              "  <tbody>\n",
              "    <tr>\n",
              "      <th>492</th>\n",
              "      <td>How do I become a person?</td>\n",
              "      <td>Ok That might be a weird question but I needed...</td>\n",
              "      <td>1</td>\n",
              "      <td>1</td>\n",
              "      <td>1</td>\n",
              "      <td>1</td>\n",
              "      <td>0</td>\n",
              "      <td>0</td>\n",
              "      <td>0</td>\n",
              "      <td>0</td>\n",
              "      <td>0</td>\n",
              "    </tr>\n",
              "    <tr>\n",
              "      <th>1487</th>\n",
              "      <td>I don’t want to go swimming at the lake tonigh...</td>\n",
              "      <td>But it seems like I’ve been crying out for hel...</td>\n",
              "      <td>1</td>\n",
              "      <td>0</td>\n",
              "      <td>0</td>\n",
              "      <td>0</td>\n",
              "      <td>0</td>\n",
              "      <td>0</td>\n",
              "      <td>1</td>\n",
              "      <td>0</td>\n",
              "      <td>0</td>\n",
              "    </tr>\n",
              "    <tr>\n",
              "      <th>1860</th>\n",
              "      <td>Does anyone else feel like the world is incred...</td>\n",
              "      <td>I’ve never been treated nicely by anyone. Even...</td>\n",
              "      <td>1</td>\n",
              "      <td>0</td>\n",
              "      <td>0</td>\n",
              "      <td>0</td>\n",
              "      <td>0</td>\n",
              "      <td>0</td>\n",
              "      <td>1</td>\n",
              "      <td>0</td>\n",
              "      <td>0</td>\n",
              "    </tr>\n",
              "    <tr>\n",
              "      <th>243</th>\n",
              "      <td>Is anyone in the same position as me?</td>\n",
              "      <td>Hey this might be long but oh welll we all lov...</td>\n",
              "      <td>1</td>\n",
              "      <td>1</td>\n",
              "      <td>0</td>\n",
              "      <td>1</td>\n",
              "      <td>0</td>\n",
              "      <td>0</td>\n",
              "      <td>1</td>\n",
              "      <td>0</td>\n",
              "      <td>0</td>\n",
              "    </tr>\n",
              "    <tr>\n",
              "      <th>1713</th>\n",
              "      <td>Depression killing right now. I could use some...</td>\n",
              "      <td>Hi, I'm Mark, I'm 22 and I live near Berlin, G...</td>\n",
              "      <td>1</td>\n",
              "      <td>1</td>\n",
              "      <td>0</td>\n",
              "      <td>0</td>\n",
              "      <td>0</td>\n",
              "      <td>0</td>\n",
              "      <td>1</td>\n",
              "      <td>0</td>\n",
              "      <td>0</td>\n",
              "    </tr>\n",
              "  </tbody>\n",
              "</table>\n",
              "</div>\n",
              "    <div class=\"colab-df-buttons\">\n",
              "\n",
              "  <div class=\"colab-df-container\">\n",
              "    <button class=\"colab-df-convert\" onclick=\"convertToInteractive('df-49c188be-3812-4d3d-81ed-0aeb088a8ecd')\"\n",
              "            title=\"Convert this dataframe to an interactive table.\"\n",
              "            style=\"display:none;\">\n",
              "\n",
              "  <svg xmlns=\"http://www.w3.org/2000/svg\" height=\"24px\" viewBox=\"0 -960 960 960\">\n",
              "    <path d=\"M120-120v-720h720v720H120Zm60-500h600v-160H180v160Zm220 220h160v-160H400v160Zm0 220h160v-160H400v160ZM180-400h160v-160H180v160Zm440 0h160v-160H620v160ZM180-180h160v-160H180v160Zm440 0h160v-160H620v160Z\"/>\n",
              "  </svg>\n",
              "    </button>\n",
              "\n",
              "  <style>\n",
              "    .colab-df-container {\n",
              "      display:flex;\n",
              "      gap: 12px;\n",
              "    }\n",
              "\n",
              "    .colab-df-convert {\n",
              "      background-color: #E8F0FE;\n",
              "      border: none;\n",
              "      border-radius: 50%;\n",
              "      cursor: pointer;\n",
              "      display: none;\n",
              "      fill: #1967D2;\n",
              "      height: 32px;\n",
              "      padding: 0 0 0 0;\n",
              "      width: 32px;\n",
              "    }\n",
              "\n",
              "    .colab-df-convert:hover {\n",
              "      background-color: #E2EBFA;\n",
              "      box-shadow: 0px 1px 2px rgba(60, 64, 67, 0.3), 0px 1px 3px 1px rgba(60, 64, 67, 0.15);\n",
              "      fill: #174EA6;\n",
              "    }\n",
              "\n",
              "    .colab-df-buttons div {\n",
              "      margin-bottom: 4px;\n",
              "    }\n",
              "\n",
              "    [theme=dark] .colab-df-convert {\n",
              "      background-color: #3B4455;\n",
              "      fill: #D2E3FC;\n",
              "    }\n",
              "\n",
              "    [theme=dark] .colab-df-convert:hover {\n",
              "      background-color: #434B5C;\n",
              "      box-shadow: 0px 1px 3px 1px rgba(0, 0, 0, 0.15);\n",
              "      filter: drop-shadow(0px 1px 2px rgba(0, 0, 0, 0.3));\n",
              "      fill: #FFFFFF;\n",
              "    }\n",
              "  </style>\n",
              "\n",
              "    <script>\n",
              "      const buttonEl =\n",
              "        document.querySelector('#df-49c188be-3812-4d3d-81ed-0aeb088a8ecd button.colab-df-convert');\n",
              "      buttonEl.style.display =\n",
              "        google.colab.kernel.accessAllowed ? 'block' : 'none';\n",
              "\n",
              "      async function convertToInteractive(key) {\n",
              "        const element = document.querySelector('#df-49c188be-3812-4d3d-81ed-0aeb088a8ecd');\n",
              "        const dataTable =\n",
              "          await google.colab.kernel.invokeFunction('convertToInteractive',\n",
              "                                                    [key], {});\n",
              "        if (!dataTable) return;\n",
              "\n",
              "        const docLinkHtml = 'Like what you see? Visit the ' +\n",
              "          '<a target=\"_blank\" href=https://colab.research.google.com/notebooks/data_table.ipynb>data table notebook</a>'\n",
              "          + ' to learn more about interactive tables.';\n",
              "        element.innerHTML = '';\n",
              "        dataTable['output_type'] = 'display_data';\n",
              "        await google.colab.output.renderOutput(dataTable, element);\n",
              "        const docLink = document.createElement('div');\n",
              "        docLink.innerHTML = docLinkHtml;\n",
              "        element.appendChild(docLink);\n",
              "      }\n",
              "    </script>\n",
              "  </div>\n",
              "\n",
              "\n",
              "<div id=\"df-759d4e8c-6b31-45ff-8862-57a9c1f17025\">\n",
              "  <button class=\"colab-df-quickchart\" onclick=\"quickchart('df-759d4e8c-6b31-45ff-8862-57a9c1f17025')\"\n",
              "            title=\"Suggest charts\"\n",
              "            style=\"display:none;\">\n",
              "\n",
              "<svg xmlns=\"http://www.w3.org/2000/svg\" height=\"24px\"viewBox=\"0 0 24 24\"\n",
              "     width=\"24px\">\n",
              "    <g>\n",
              "        <path d=\"M19 3H5c-1.1 0-2 .9-2 2v14c0 1.1.9 2 2 2h14c1.1 0 2-.9 2-2V5c0-1.1-.9-2-2-2zM9 17H7v-7h2v7zm4 0h-2V7h2v10zm4 0h-2v-4h2v4z\"/>\n",
              "    </g>\n",
              "</svg>\n",
              "  </button>\n",
              "\n",
              "<style>\n",
              "  .colab-df-quickchart {\n",
              "      --bg-color: #E8F0FE;\n",
              "      --fill-color: #1967D2;\n",
              "      --hover-bg-color: #E2EBFA;\n",
              "      --hover-fill-color: #174EA6;\n",
              "      --disabled-fill-color: #AAA;\n",
              "      --disabled-bg-color: #DDD;\n",
              "  }\n",
              "\n",
              "  [theme=dark] .colab-df-quickchart {\n",
              "      --bg-color: #3B4455;\n",
              "      --fill-color: #D2E3FC;\n",
              "      --hover-bg-color: #434B5C;\n",
              "      --hover-fill-color: #FFFFFF;\n",
              "      --disabled-bg-color: #3B4455;\n",
              "      --disabled-fill-color: #666;\n",
              "  }\n",
              "\n",
              "  .colab-df-quickchart {\n",
              "    background-color: var(--bg-color);\n",
              "    border: none;\n",
              "    border-radius: 50%;\n",
              "    cursor: pointer;\n",
              "    display: none;\n",
              "    fill: var(--fill-color);\n",
              "    height: 32px;\n",
              "    padding: 0;\n",
              "    width: 32px;\n",
              "  }\n",
              "\n",
              "  .colab-df-quickchart:hover {\n",
              "    background-color: var(--hover-bg-color);\n",
              "    box-shadow: 0 1px 2px rgba(60, 64, 67, 0.3), 0 1px 3px 1px rgba(60, 64, 67, 0.15);\n",
              "    fill: var(--button-hover-fill-color);\n",
              "  }\n",
              "\n",
              "  .colab-df-quickchart-complete:disabled,\n",
              "  .colab-df-quickchart-complete:disabled:hover {\n",
              "    background-color: var(--disabled-bg-color);\n",
              "    fill: var(--disabled-fill-color);\n",
              "    box-shadow: none;\n",
              "  }\n",
              "\n",
              "  .colab-df-spinner {\n",
              "    border: 2px solid var(--fill-color);\n",
              "    border-color: transparent;\n",
              "    border-bottom-color: var(--fill-color);\n",
              "    animation:\n",
              "      spin 1s steps(1) infinite;\n",
              "  }\n",
              "\n",
              "  @keyframes spin {\n",
              "    0% {\n",
              "      border-color: transparent;\n",
              "      border-bottom-color: var(--fill-color);\n",
              "      border-left-color: var(--fill-color);\n",
              "    }\n",
              "    20% {\n",
              "      border-color: transparent;\n",
              "      border-left-color: var(--fill-color);\n",
              "      border-top-color: var(--fill-color);\n",
              "    }\n",
              "    30% {\n",
              "      border-color: transparent;\n",
              "      border-left-color: var(--fill-color);\n",
              "      border-top-color: var(--fill-color);\n",
              "      border-right-color: var(--fill-color);\n",
              "    }\n",
              "    40% {\n",
              "      border-color: transparent;\n",
              "      border-right-color: var(--fill-color);\n",
              "      border-top-color: var(--fill-color);\n",
              "    }\n",
              "    60% {\n",
              "      border-color: transparent;\n",
              "      border-right-color: var(--fill-color);\n",
              "    }\n",
              "    80% {\n",
              "      border-color: transparent;\n",
              "      border-right-color: var(--fill-color);\n",
              "      border-bottom-color: var(--fill-color);\n",
              "    }\n",
              "    90% {\n",
              "      border-color: transparent;\n",
              "      border-bottom-color: var(--fill-color);\n",
              "    }\n",
              "  }\n",
              "</style>\n",
              "\n",
              "  <script>\n",
              "    async function quickchart(key) {\n",
              "      const quickchartButtonEl =\n",
              "        document.querySelector('#' + key + ' button');\n",
              "      quickchartButtonEl.disabled = true;  // To prevent multiple clicks.\n",
              "      quickchartButtonEl.classList.add('colab-df-spinner');\n",
              "      try {\n",
              "        const charts = await google.colab.kernel.invokeFunction(\n",
              "            'suggestCharts', [key], {});\n",
              "      } catch (error) {\n",
              "        console.error('Error during call to suggestCharts:', error);\n",
              "      }\n",
              "      quickchartButtonEl.classList.remove('colab-df-spinner');\n",
              "      quickchartButtonEl.classList.add('colab-df-quickchart-complete');\n",
              "    }\n",
              "    (() => {\n",
              "      let quickchartButtonEl =\n",
              "        document.querySelector('#df-759d4e8c-6b31-45ff-8862-57a9c1f17025 button');\n",
              "      quickchartButtonEl.style.display =\n",
              "        google.colab.kernel.accessAllowed ? 'block' : 'none';\n",
              "    })();\n",
              "  </script>\n",
              "</div>\n",
              "\n",
              "    </div>\n",
              "  </div>\n"
            ],
            "application/vnd.google.colaboratory.intrinsic+json": {
              "type": "dataframe",
              "variable_name": "train_df",
              "summary": "{\n  \"name\": \"train_df\",\n  \"rows\": 1396,\n  \"fields\": [\n    {\n      \"column\": \"post_title\",\n      \"properties\": {\n        \"dtype\": \"string\",\n        \"num_unique_values\": 1375,\n        \"samples\": [\n          \"27 yo Male, living with parents, having some family small businesses but personally having insignificant involvment. Dating an older women from other town. What should I do ?\",\n          \"I lost my job and potentially my career due to a deep depression.\",\n          \"I completely lost myself.\"\n        ],\n        \"semantic_type\": \"\",\n        \"description\": \"\"\n      }\n    },\n    {\n      \"column\": \"post_text\",\n      \"properties\": {\n        \"dtype\": \"string\",\n        \"num_unique_values\": 1396,\n        \"samples\": [\n          \"I\\u2019ve been with my boyfriend for almost a year now and my depression has flared up and usually does when I am on my period. The issue is that my boyfriend doesn\\u2019t believe in therapy and doesn\\u2019t see it as an issue but my \\u201cbehavior\\u201d is affecting our relationship. As much as I try to explain that I can\\u2019t control it, that I am handling it, and that I would appreciate his support, he doesn\\u2019t know how to support me and becomes distant when I try and open up to him about it. \\n\\nHow do I try to help him understand what is happening and how to best explain my symptoms and what I need from him? Or is this just something that I can\\u2019t talk about with him and is there a way that I can establish a code word when I start to feel bad so that I can have my space when I feel this way (even though I would really appreciate his support when I feel like this)?\",\n          \"I constantly feel that I\\u2019m not good enough for my family and friends, that I\\u2019m ugly and stupid. I know that I\\u2019m not, but I\\u2019m kinda starting to believe it. Some days, the most minor inconvenience can cause me to just give up completely and start crying. During these times, I just feel that life is pointless. It used to be not as bad, but now it\\u2019s escalating and I don\\u2019t know if I can take it anymore.\\nOne of the worst parts about this, is that I\\u2019ve started to shut out my friends and family. I feel really bad doing it, but I have do do it. One of my friends, who I thought I could tell about this, started to tell others and they made fun of me. I was traumatized. I don\\u2019t want that to happen again.\\nPlease, help me with this. I can\\u2019t take it anymore.\",\n          \"I'm a patient person. I never lash out. I never once had a outburst of anger. I always directed that anger and shame into hating myself. I suspect that I might have quiet BPD , but I don't want to seem like an attention whore  trying to self-diagnose.\\n\\nWhere I live is hell. I do not feel understood by my therapist. I feel like all I do is fucking, WHINE, WHINE WHINE WHINE. \\n\\nI live with my grandparents. My grandpa has done some bad things to me. My grandmother is an cold abusive bitter shell of a women that points out EVERYTHING I do wrong. Nothing I do is good enough. ITs always the negatives. \\n\\nMy mother is well. I don't know how the fuck to describe her. I use to idolize her as a cihld and used to feel special for being so close to her. Now I see how its fucking impossible to share my feelings and point of view with her because she just thinks I'm blaming her. \\n\\nMy father left me with a child molester. And even laughed at me while I was crying, begging him to  care and give a shit. To at least PRETEND TO CARE. Nah he just laughed at me.\\n\\nI have severe anxiety. I cannot do anything by myself. I am very dependent. I feel helpless. I also really  , really fucking hate myself.\\n\\nPeople have told my parents how stubborn and rigid i was as a child and kept telling them how I was going to be a bad person as I got older and not support my parents. And everytime i'd do something wrong my parents would bring this up and it'd bring me so much anxiety its not even funny.\\n\\nI impuslivly bought a pack of blades. I tried talking to my therapist yesterday and it just didn't feel like she cared. She just wanted mee to do DBT SKILLS AND THATS ALL SHE FUCKING TALKED ABOUT. NO ONE LISTENES TO ME. NO ONE GIVES A FUCKING SHIT. \\n\\nTHE PEOPLE WHO USED TO CARE (LIKE MY MOM) ARE TIRED OF MY USELESS ASS.\\n\\nI already cut myself today. I am trying to calm down the urge to just drag the blade across my throat.\"\n        ],\n        \"semantic_type\": \"\",\n        \"description\": \"\"\n      }\n    },\n    {\n      \"column\": \"annotations.1\",\n      \"properties\": {\n        \"dtype\": \"number\",\n        \"std\": 0,\n        \"min\": 0,\n        \"max\": 1,\n        \"num_unique_values\": 2,\n        \"samples\": [\n          0,\n          1\n        ],\n        \"semantic_type\": \"\",\n        \"description\": \"\"\n      }\n    },\n    {\n      \"column\": \"annotations.2\",\n      \"properties\": {\n        \"dtype\": \"number\",\n        \"std\": 0,\n        \"min\": 0,\n        \"max\": 1,\n        \"num_unique_values\": 2,\n        \"samples\": [\n          0,\n          1\n        ],\n        \"semantic_type\": \"\",\n        \"description\": \"\"\n      }\n    },\n    {\n      \"column\": \"annotations.3\",\n      \"properties\": {\n        \"dtype\": \"number\",\n        \"std\": 0,\n        \"min\": 0,\n        \"max\": 1,\n        \"num_unique_values\": 2,\n        \"samples\": [\n          0,\n          1\n        ],\n        \"semantic_type\": \"\",\n        \"description\": \"\"\n      }\n    },\n    {\n      \"column\": \"annotations.4\",\n      \"properties\": {\n        \"dtype\": \"number\",\n        \"std\": 0,\n        \"min\": 0,\n        \"max\": 1,\n        \"num_unique_values\": 2,\n        \"samples\": [\n          0,\n          1\n        ],\n        \"semantic_type\": \"\",\n        \"description\": \"\"\n      }\n    },\n    {\n      \"column\": \"annotations.5\",\n      \"properties\": {\n        \"dtype\": \"number\",\n        \"std\": 0,\n        \"min\": 0,\n        \"max\": 1,\n        \"num_unique_values\": 2,\n        \"samples\": [\n          1,\n          0\n        ],\n        \"semantic_type\": \"\",\n        \"description\": \"\"\n      }\n    },\n    {\n      \"column\": \"annotations.6\",\n      \"properties\": {\n        \"dtype\": \"number\",\n        \"std\": 0,\n        \"min\": 0,\n        \"max\": 1,\n        \"num_unique_values\": 2,\n        \"samples\": [\n          1,\n          0\n        ],\n        \"semantic_type\": \"\",\n        \"description\": \"\"\n      }\n    },\n    {\n      \"column\": \"annotations.7\",\n      \"properties\": {\n        \"dtype\": \"number\",\n        \"std\": 0,\n        \"min\": 0,\n        \"max\": 1,\n        \"num_unique_values\": 2,\n        \"samples\": [\n          1,\n          0\n        ],\n        \"semantic_type\": \"\",\n        \"description\": \"\"\n      }\n    },\n    {\n      \"column\": \"annotations.8\",\n      \"properties\": {\n        \"dtype\": \"number\",\n        \"std\": 0,\n        \"min\": 0,\n        \"max\": 1,\n        \"num_unique_values\": 2,\n        \"samples\": [\n          1,\n          0\n        ],\n        \"semantic_type\": \"\",\n        \"description\": \"\"\n      }\n    },\n    {\n      \"column\": \"annotations.9\",\n      \"properties\": {\n        \"dtype\": \"number\",\n        \"std\": 0,\n        \"min\": 0,\n        \"max\": 1,\n        \"num_unique_values\": 2,\n        \"samples\": [\n          1,\n          0\n        ],\n        \"semantic_type\": \"\",\n        \"description\": \"\"\n      }\n    }\n  ]\n}"
            }
          },
          "metadata": {},
          "execution_count": 13
        }
      ],
      "source": [
        "train_df.head()"
      ]
    },
    {
      "cell_type": "code",
      "execution_count": 14,
      "metadata": {
        "id": "d6PcOd8pkhMz"
      },
      "outputs": [],
      "source": [
        "not_chosen_columns = ['post_text', 'post_title']\n",
        "\n",
        "# Select label columns that are not in the list of not chosen columns\n",
        "label_columns = [col for col in df.columns if col not in not_chosen_columns]\n",
        "\n",
        "# Create a new DataFrame containing only the selected label columns\n",
        "labels_train = train_df[label_columns]\n",
        "labels_val=val_df[label_columns]\n",
        "labels_test = test_df[label_columns]\n",
        "\n",
        "\n",
        "# Convert the label columns to lists for each row\n",
        "labels_list_train = labels_train.values\n",
        "labels_list_val = labels_val.values\n",
        "labels_list_test = labels_test.values"
      ]
    },
    {
      "cell_type": "code",
      "execution_count": 15,
      "metadata": {
        "colab": {
          "base_uri": "https://localhost:8080/"
        },
        "id": "7fU9XTwIktLt",
        "outputId": "c5d2078c-57b3-4c31-a74b-2f8c85c55a58"
      },
      "outputs": [
        {
          "output_type": "stream",
          "name": "stdout",
          "text": [
            "[[1 1 1 ... 0 0 0]\n",
            " [1 0 0 ... 1 0 0]\n",
            " [1 0 0 ... 1 0 0]\n",
            " ...\n",
            " [1 1 0 ... 0 0 1]\n",
            " [1 1 0 ... 0 0 0]\n",
            " [1 1 0 ... 1 0 0]]\n"
          ]
        }
      ],
      "source": [
        "print((labels_list_train))"
      ]
    },
    {
      "cell_type": "code",
      "execution_count": 16,
      "metadata": {
        "colab": {
          "base_uri": "https://localhost:8080/"
        },
        "id": "T4DlZ-8bi0Fs",
        "outputId": "e8fee14b-eccf-47b1-c889-98beec661cf9"
      },
      "outputs": [
        {
          "output_type": "stream",
          "name": "stdout",
          "text": [
            "<class 'pandas.core.series.Series'>\n"
          ]
        }
      ],
      "source": [
        "combined_train = train_df['post_title'] + ' ' + train_df['post_text']\n",
        "combined_val = val_df['post_title'] + ' ' + val_df['post_text']\n",
        "combined_test=test_df['post_title'] + ' ' + test_df['post_text']\n",
        "print(type(combined_train))"
      ]
    },
    {
      "cell_type": "code",
      "execution_count": 17,
      "metadata": {
        "id": "2tyfig06ibtx"
      },
      "outputs": [],
      "source": [
        "\n",
        "train_text = combined_train.astype(str)\n",
        "train_labels = labels_list_train\n",
        "test_text=combined_test.astype(str)\n",
        "val_text = combined_val.astype(str)\n",
        "val_labels = labels_list_val\n",
        "test_text = combined_test.astype(str)\n",
        "test_labels = labels_list_test"
      ]
    },
    {
      "cell_type": "code",
      "execution_count": 18,
      "metadata": {
        "colab": {
          "base_uri": "https://localhost:8080/"
        },
        "id": "KdxfDSDjm2-q",
        "outputId": "f35839a5-6bd3-4d33-8a9c-1408e3dd3630"
      },
      "outputs": [
        {
          "output_type": "stream",
          "name": "stderr",
          "text": [
            "[nltk_data] Downloading package stopwords to /root/nltk_data...\n",
            "[nltk_data]   Package stopwords is already up-to-date!\n",
            "[nltk_data] Downloading package punkt to /root/nltk_data...\n",
            "[nltk_data]   Package punkt is already up-to-date!\n"
          ]
        }
      ],
      "source": [
        "import re\n",
        "import emoji\n",
        "import string\n",
        "from torch.utils.data import Dataset\n",
        "import torch\n",
        "from nltk.corpus import stopwords\n",
        "from nltk.tokenize import word_tokenize\n",
        "\n",
        "import nltk\n",
        "nltk.download('stopwords')\n",
        "nltk.download('punkt')\n",
        "\n",
        "def clean_text(text):\n",
        "    # Convert to lowercase\n",
        "    text = text.lower()\n",
        "\n",
        "    # Remove URLs\n",
        "    text = re.sub(r'http\\S+', '', text)\n",
        "\n",
        "    # Handle emojis\n",
        "    text = emoji.demojize(text)\n",
        "    text = re.sub(r':', ' ', text)\n",
        "\n",
        "    # Remove punctuation\n",
        "    text = text.translate(str.maketrans('', '', string.punctuation))\n",
        "\n",
        "    # Remove stopwords\n",
        "    stop_words = set(stopwords.words('english'))\n",
        "    word_tokens = word_tokenize(text)\n",
        "    text = ' '.join([word for word in word_tokens if word.lower() not in stop_words])\n",
        "\n",
        "    # Remove extra whitespaces\n",
        "    text = re.sub(' +', ' ', text).strip()\n",
        "\n",
        "    return text\n"
      ]
    },
    {
      "cell_type": "code",
      "execution_count": 39,
      "metadata": {
        "id": "2ANzv9mmm6xa"
      },
      "outputs": [],
      "source": [
        "# Cleaned Text for further Processing\n",
        "train_text_cleaned =train_text.apply(clean_text)\n",
        "\n",
        "val_text_cleaned = val_text.apply(clean_text)"
      ]
    },
    {
      "cell_type": "markdown",
      "metadata": {
        "id": "JS7Nfvjg0Imo"
      },
      "source": [
        "##Tokenization and Model Building\n"
      ]
    },
    {
      "cell_type": "code",
      "execution_count": 20,
      "metadata": {
        "colab": {
          "base_uri": "https://localhost:8080/"
        },
        "id": "jcOJVPKRy4hJ",
        "outputId": "b4841dcb-17ab-4500-a055-898442be0b3e"
      },
      "outputs": [
        {
          "output_type": "stream",
          "name": "stderr",
          "text": [
            "/usr/local/lib/python3.10/dist-packages/huggingface_hub/utils/_token.py:88: UserWarning: \n",
            "The secret `HF_TOKEN` does not exist in your Colab secrets.\n",
            "To authenticate with the Hugging Face Hub, create a token in your settings tab (https://huggingface.co/settings/tokens), set it as secret in your Google Colab and restart your session.\n",
            "You will be able to reuse this secret in all of your notebooks.\n",
            "Please note that authentication is recommended but still optional to access public models or datasets.\n",
            "  warnings.warn(\n",
            "Some weights of DistilBertForSequenceClassification were not initialized from the model checkpoint at distilbert-base-uncased and are newly initialized: ['classifier.bias', 'classifier.weight', 'pre_classifier.bias', 'pre_classifier.weight']\n",
            "You should probably TRAIN this model on a down-stream task to be able to use it for predictions and inference.\n"
          ]
        }
      ],
      "source": [
        "# Loading the DistillBert Model for training\n",
        "checkpoint = \"distilbert-base-uncased\"\n",
        "tokenizer = DistilBertTokenizer.from_pretrained(checkpoint)\n",
        "model = DistilBertForSequenceClassification.from_pretrained(checkpoint, num_labels=9,\n",
        "                                                            problem_type=\"multi_label_classification\")"
      ]
    },
    {
      "cell_type": "code",
      "execution_count": 21,
      "metadata": {
        "id": "6nMdhE871dEP"
      },
      "outputs": [],
      "source": [
        "#Creating encodings to further feed into the model\n",
        "train_text_encodings = tokenizer(train_text_cleaned.tolist(), padding=\"max_length\", truncation=True, max_length=512)\n",
        "val_text_encodings = tokenizer(val_text_cleaned.tolist(), padding=\"max_length\", truncation=True, max_length=512)\n"
      ]
    },
    {
      "cell_type": "markdown",
      "metadata": {
        "id": "Zr8YA9FP0cpa"
      },
      "source": [
        "##Custom Dataset Creation"
      ]
    },
    {
      "cell_type": "code",
      "execution_count": 22,
      "metadata": {
        "id": "UEMrzOMEi0CW"
      },
      "outputs": [],
      "source": [
        "max_length = 512\n",
        "\n",
        "class TextClassifierDataset(Dataset):\n",
        "    def __init__(self, encodings, labels, max_length=512):\n",
        "        self.encodings = encodings\n",
        "        self.labels = labels\n",
        "        self.max_length = max_length\n",
        "\n",
        "    def __len__(self):\n",
        "        return len(self.labels)\n",
        "\n",
        "    def __getitem__(self, idx):\n",
        "        input_ids = torch.tensor(self.encodings['input_ids'][idx])\n",
        "        attention_mask = torch.tensor(self.encodings['attention_mask'][idx])\n",
        "\n",
        "        # Truncate or pad to the specified max_length\n",
        "        input_ids = input_ids[:self.max_length]\n",
        "        attention_mask = attention_mask[:self.max_length]\n",
        "\n",
        "        item = {\n",
        "            'input_ids': input_ids,\n",
        "            'attention_mask': attention_mask,\n",
        "            'labels': torch.tensor(self.labels[idx], dtype=torch.float32)\n",
        "        }\n",
        "        return item\n",
        "\n",
        "\n"
      ]
    },
    {
      "cell_type": "code",
      "execution_count": 23,
      "metadata": {
        "id": "fJ8iZCFP2Bi3"
      },
      "outputs": [],
      "source": [
        "\n",
        "train_dataset = TextClassifierDataset(train_text_encodings, train_labels, max_length)\n",
        "val_dataset = TextClassifierDataset(val_text_encodings, val_labels, max_length)"
      ]
    },
    {
      "cell_type": "code",
      "execution_count": 24,
      "metadata": {
        "colab": {
          "base_uri": "https://localhost:8080/"
        },
        "id": "dROpW6AxoKJO",
        "outputId": "fa8a775a-eef9-4779-9792-d7579908ff7f"
      },
      "outputs": [
        {
          "output_type": "execute_result",
          "data": {
            "text/plain": [
              "dict"
            ]
          },
          "metadata": {},
          "execution_count": 24
        }
      ],
      "source": [
        "type(train_dataset[1])"
      ]
    },
    {
      "cell_type": "code",
      "execution_count": 25,
      "metadata": {
        "colab": {
          "base_uri": "https://localhost:8080/"
        },
        "id": "K9YYLrjqoK9f",
        "outputId": "94905b8a-7689-4897-9f32-43e51254b65e"
      },
      "outputs": [
        {
          "output_type": "stream",
          "name": "stdout",
          "text": [
            "{'input_ids': tensor([  101,  1521,  2215,  2175,  5742,  2697,  3892,  3849,  2066,  1521,\n",
            "         6933,  2393,  2296,  2391,  1521,  2699,  2191,  2028,  4699,  5094,\n",
            "         2126,  1521,  2356, 14181, 13512, 29278, 18150,  8244,  6107, 16169,\n",
            "         2565, 14181, 13512, 29278, 18150,  2495,  6633, 24759,  6977,  3672,\n",
            "        13117,  2015, 14181, 13512, 29278, 18150,  4735,  6026,  2137,  2576,\n",
            "         9147,  2359,  2468,  8239,  2658,  3850,  3220,  2359,  2393,  2500,\n",
            "         2437,  4507,  2322,  2086,  2551,  2875,  2894,  1521,  2505,  2191,\n",
            "         4507,  3849,  2066,  6343, 14977,  8563,  3043,  2524,  1521,  2699,\n",
            "         6162,  3125,  1521,  2467,  2272,  2460,  7955,  2842,  3084,  2112,\n",
            "         7367, 17603, 16961,  4279,  3892,  1521, 25247,  4954,  5886, 11276,\n",
            "         9880,  2690,  2697,  2203,  6343,  4122,  2393,  1521,  2356,  2393,\n",
            "         6343,  4122, 10408,  4522,  7300,  1521,  2699,  2556,  2111,  6343,\n",
            "         4122,  2130,  3543,  2292,  2894,  2729,  1521, 12731, 13102, 10561,\n",
            "         2203,  2166,  1521,  2215,  2175,  5742,  2697,  3892,  3849,  2066,\n",
            "         6343,  4122,  2644,  2729,  2215,  2644,  3828,  2227,  1521,  4139,\n",
            "         2067,  2215,  2644,  4436, 14337,  2215,  2203,  2166,  3892,  2644,\n",
            "         5770,  1521,  2393,  3067,   102,     0,     0,     0,     0,     0,\n",
            "            0,     0,     0,     0,     0,     0,     0,     0,     0,     0,\n",
            "            0,     0,     0,     0,     0,     0,     0,     0,     0,     0,\n",
            "            0,     0,     0,     0,     0,     0,     0,     0,     0,     0,\n",
            "            0,     0,     0,     0,     0,     0,     0,     0,     0,     0,\n",
            "            0,     0,     0,     0,     0,     0,     0,     0,     0,     0,\n",
            "            0,     0,     0,     0,     0,     0,     0,     0,     0,     0,\n",
            "            0,     0,     0,     0,     0,     0,     0,     0,     0,     0,\n",
            "            0,     0,     0,     0,     0,     0,     0,     0,     0,     0,\n",
            "            0,     0,     0,     0,     0,     0,     0,     0,     0,     0,\n",
            "            0,     0,     0,     0,     0,     0,     0,     0,     0,     0,\n",
            "            0,     0,     0,     0,     0,     0,     0,     0,     0,     0,\n",
            "            0,     0,     0,     0,     0,     0,     0,     0,     0,     0,\n",
            "            0,     0,     0,     0,     0,     0,     0,     0,     0,     0,\n",
            "            0,     0,     0,     0,     0,     0,     0,     0,     0,     0,\n",
            "            0,     0,     0,     0,     0,     0,     0,     0,     0,     0,\n",
            "            0,     0,     0,     0,     0,     0,     0,     0,     0,     0,\n",
            "            0,     0,     0,     0,     0,     0,     0,     0,     0,     0,\n",
            "            0,     0,     0,     0,     0,     0,     0,     0,     0,     0,\n",
            "            0,     0,     0,     0,     0,     0,     0,     0,     0,     0,\n",
            "            0,     0,     0,     0,     0,     0,     0,     0,     0,     0,\n",
            "            0,     0,     0,     0,     0,     0,     0,     0,     0,     0,\n",
            "            0,     0,     0,     0,     0,     0,     0,     0,     0,     0,\n",
            "            0,     0,     0,     0,     0,     0,     0,     0,     0,     0,\n",
            "            0,     0,     0,     0,     0,     0,     0,     0,     0,     0,\n",
            "            0,     0,     0,     0,     0,     0,     0,     0,     0,     0,\n",
            "            0,     0,     0,     0,     0,     0,     0,     0,     0,     0,\n",
            "            0,     0,     0,     0,     0,     0,     0,     0,     0,     0,\n",
            "            0,     0,     0,     0,     0,     0,     0,     0,     0,     0,\n",
            "            0,     0,     0,     0,     0,     0,     0,     0,     0,     0,\n",
            "            0,     0,     0,     0,     0,     0,     0,     0,     0,     0,\n",
            "            0,     0,     0,     0,     0,     0,     0,     0,     0,     0,\n",
            "            0,     0,     0,     0,     0,     0,     0,     0,     0,     0,\n",
            "            0,     0,     0,     0,     0,     0,     0,     0,     0,     0,\n",
            "            0,     0,     0,     0,     0,     0,     0,     0,     0,     0,\n",
            "            0,     0]), 'attention_mask': tensor([1, 1, 1, 1, 1, 1, 1, 1, 1, 1, 1, 1, 1, 1, 1, 1, 1, 1, 1, 1, 1, 1, 1, 1,\n",
            "        1, 1, 1, 1, 1, 1, 1, 1, 1, 1, 1, 1, 1, 1, 1, 1, 1, 1, 1, 1, 1, 1, 1, 1,\n",
            "        1, 1, 1, 1, 1, 1, 1, 1, 1, 1, 1, 1, 1, 1, 1, 1, 1, 1, 1, 1, 1, 1, 1, 1,\n",
            "        1, 1, 1, 1, 1, 1, 1, 1, 1, 1, 1, 1, 1, 1, 1, 1, 1, 1, 1, 1, 1, 1, 1, 1,\n",
            "        1, 1, 1, 1, 1, 1, 1, 1, 1, 1, 1, 1, 1, 1, 1, 1, 1, 1, 1, 1, 1, 1, 1, 1,\n",
            "        1, 1, 1, 1, 1, 1, 1, 1, 1, 1, 1, 1, 1, 1, 1, 1, 1, 1, 1, 1, 1, 1, 1, 1,\n",
            "        1, 1, 1, 1, 1, 1, 1, 1, 1, 1, 1, 1, 1, 1, 1, 1, 1, 1, 1, 1, 1, 0, 0, 0,\n",
            "        0, 0, 0, 0, 0, 0, 0, 0, 0, 0, 0, 0, 0, 0, 0, 0, 0, 0, 0, 0, 0, 0, 0, 0,\n",
            "        0, 0, 0, 0, 0, 0, 0, 0, 0, 0, 0, 0, 0, 0, 0, 0, 0, 0, 0, 0, 0, 0, 0, 0,\n",
            "        0, 0, 0, 0, 0, 0, 0, 0, 0, 0, 0, 0, 0, 0, 0, 0, 0, 0, 0, 0, 0, 0, 0, 0,\n",
            "        0, 0, 0, 0, 0, 0, 0, 0, 0, 0, 0, 0, 0, 0, 0, 0, 0, 0, 0, 0, 0, 0, 0, 0,\n",
            "        0, 0, 0, 0, 0, 0, 0, 0, 0, 0, 0, 0, 0, 0, 0, 0, 0, 0, 0, 0, 0, 0, 0, 0,\n",
            "        0, 0, 0, 0, 0, 0, 0, 0, 0, 0, 0, 0, 0, 0, 0, 0, 0, 0, 0, 0, 0, 0, 0, 0,\n",
            "        0, 0, 0, 0, 0, 0, 0, 0, 0, 0, 0, 0, 0, 0, 0, 0, 0, 0, 0, 0, 0, 0, 0, 0,\n",
            "        0, 0, 0, 0, 0, 0, 0, 0, 0, 0, 0, 0, 0, 0, 0, 0, 0, 0, 0, 0, 0, 0, 0, 0,\n",
            "        0, 0, 0, 0, 0, 0, 0, 0, 0, 0, 0, 0, 0, 0, 0, 0, 0, 0, 0, 0, 0, 0, 0, 0,\n",
            "        0, 0, 0, 0, 0, 0, 0, 0, 0, 0, 0, 0, 0, 0, 0, 0, 0, 0, 0, 0, 0, 0, 0, 0,\n",
            "        0, 0, 0, 0, 0, 0, 0, 0, 0, 0, 0, 0, 0, 0, 0, 0, 0, 0, 0, 0, 0, 0, 0, 0,\n",
            "        0, 0, 0, 0, 0, 0, 0, 0, 0, 0, 0, 0, 0, 0, 0, 0, 0, 0, 0, 0, 0, 0, 0, 0,\n",
            "        0, 0, 0, 0, 0, 0, 0, 0, 0, 0, 0, 0, 0, 0, 0, 0, 0, 0, 0, 0, 0, 0, 0, 0,\n",
            "        0, 0, 0, 0, 0, 0, 0, 0, 0, 0, 0, 0, 0, 0, 0, 0, 0, 0, 0, 0, 0, 0, 0, 0,\n",
            "        0, 0, 0, 0, 0, 0, 0, 0]), 'labels': tensor([1., 0., 0., 0., 0., 0., 1., 0., 0.])}\n"
          ]
        }
      ],
      "source": [
        "# Visualizing the formed Dataset\n",
        "print(train_dataset[1])"
      ]
    },
    {
      "cell_type": "markdown",
      "metadata": {
        "id": "rNskxUAnoHrs"
      },
      "source": [
        "##Evaluation Metrics and Training"
      ]
    },
    {
      "cell_type": "code",
      "execution_count": 26,
      "metadata": {
        "id": "58F5KCEf2IVB"
      },
      "outputs": [],
      "source": [
        "# Multi-Label Classification Evaluation Metrics\n",
        "import numpy as np\n",
        "from sklearn.metrics import roc_auc_score, f1_score, hamming_loss, accuracy_score, precision_score, recall_score\n",
        "from transformers import EvalPrediction\n",
        "import torch\n",
        "\n",
        "def multi_labels_metrics(predictions, labels, threshold=0.3):\n",
        "    sigmoid = torch.nn.Sigmoid()\n",
        "    probs = sigmoid(torch.Tensor(predictions))\n",
        "\n",
        "    y_pred = np.zeros(probs.shape)\n",
        "    y_pred[np.where(probs >= threshold)] = 1\n",
        "    y_true = labels\n",
        "\n",
        "    f1 = f1_score(y_true, y_pred, average='macro')\n",
        "    roc_auc = roc_auc_score(y_true, y_pred, average='macro')\n",
        "    hamming = hamming_loss(y_true, y_pred)\n",
        "\n",
        "    accuracy = accuracy_score(y_true, y_pred)\n",
        "    precision = precision_score(y_true, y_pred, average='macro')\n",
        "    recall = recall_score(y_true, y_pred, average='macro')\n",
        "\n",
        "    metrics = {\n",
        "        \"roc_auc\": roc_auc,\n",
        "        \"hamming_loss\": hamming,\n",
        "        \"f1\": f1,\n",
        "        \"accuracy\": accuracy,\n",
        "        \"precision\": precision,\n",
        "        \"recall\": recall\n",
        "    }\n",
        "\n",
        "    return metrics\n",
        "\n",
        "def compute_metrics(p: EvalPrediction):\n",
        "    preds = p.predictions[0] if isinstance(p.predictions, tuple) else p.predictions\n",
        "\n",
        "    result = multi_labels_metrics(predictions=preds,\n",
        "                                  labels=p.label_ids)\n",
        "\n",
        "    return result\n"
      ]
    },
    {
      "cell_type": "code",
      "execution_count": 27,
      "metadata": {
        "id": "xYHD-ce-2PNm"
      },
      "outputs": [],
      "source": [
        "# Training Arguments\n",
        "from transformers import TrainingArguments, Trainer\n",
        "\n",
        "args = TrainingArguments(\n",
        "    per_device_train_batch_size=8,\n",
        "    per_device_eval_batch_size=8,\n",
        "    output_dir = './results',\n",
        "    num_train_epochs=5,\n",
        "    save_steps=200,\n",
        "    save_total_limit=2)\n",
        "\n",
        "\n",
        "\n",
        "trainer = Trainer(model=model,\n",
        "                  args=args,\n",
        "                  train_dataset=train_dataset,\n",
        "                  eval_dataset = val_dataset,\n",
        "                  compute_metrics=compute_metrics)\n",
        "\n",
        "\n",
        "\n"
      ]
    },
    {
      "cell_type": "code",
      "execution_count": 28,
      "metadata": {
        "colab": {
          "base_uri": "https://localhost:8080/",
          "height": 141
        },
        "id": "BJrBXhc_2UBb",
        "outputId": "cd2cf44a-4df5-434f-e5dc-a766096a1a3b"
      },
      "outputs": [
        {
          "output_type": "display_data",
          "data": {
            "text/plain": [
              "<IPython.core.display.HTML object>"
            ],
            "text/html": [
              "\n",
              "    <div>\n",
              "      \n",
              "      <progress value='875' max='875' style='width:300px; height:20px; vertical-align: middle;'></progress>\n",
              "      [875/875 05:41, Epoch 5/5]\n",
              "    </div>\n",
              "    <table border=\"1\" class=\"dataframe\">\n",
              "  <thead>\n",
              " <tr style=\"text-align: left;\">\n",
              "      <th>Step</th>\n",
              "      <th>Training Loss</th>\n",
              "    </tr>\n",
              "  </thead>\n",
              "  <tbody>\n",
              "    <tr>\n",
              "      <td>500</td>\n",
              "      <td>0.465300</td>\n",
              "    </tr>\n",
              "  </tbody>\n",
              "</table><p>"
            ]
          },
          "metadata": {}
        },
        {
          "output_type": "execute_result",
          "data": {
            "text/plain": [
              "TrainOutput(global_step=875, training_loss=0.4119858660016741, metrics={'train_runtime': 344.834, 'train_samples_per_second': 20.242, 'train_steps_per_second': 2.537, 'total_flos': 924737867919360.0, 'train_loss': 0.4119858660016741, 'epoch': 5.0})"
            ]
          },
          "metadata": {},
          "execution_count": 28
        }
      ],
      "source": [
        "trainer.train()"
      ]
    },
    {
      "cell_type": "code",
      "execution_count": 31,
      "metadata": {
        "id": "YdyUU3Dm2Xtp",
        "colab": {
          "base_uri": "https://localhost:8080/",
          "height": 228
        },
        "outputId": "900db093-3252-4424-c2c8-f702bec7b944"
      },
      "outputs": [
        {
          "output_type": "display_data",
          "data": {
            "text/plain": [
              "<IPython.core.display.HTML object>"
            ],
            "text/html": [
              "\n",
              "    <div>\n",
              "      \n",
              "      <progress value='25' max='25' style='width:300px; height:20px; vertical-align: middle;'></progress>\n",
              "      [25/25 00:03]\n",
              "    </div>\n",
              "    "
            ]
          },
          "metadata": {}
        },
        {
          "output_type": "execute_result",
          "data": {
            "text/plain": [
              "{'eval_loss': 0.4043905735015869,\n",
              " 'eval_roc_auc': 0.6755502515513427,\n",
              " 'eval_hamming_loss': 0.2011111111111111,\n",
              " 'eval_f1': 0.6719424381476652,\n",
              " 'eval_accuracy': 0.125,\n",
              " 'eval_precision': 0.7078052122080063,\n",
              " 'eval_recall': 0.7569968675657848,\n",
              " 'eval_runtime': 3.2391,\n",
              " 'eval_samples_per_second': 61.746,\n",
              " 'eval_steps_per_second': 7.718,\n",
              " 'epoch': 5.0}"
            ]
          },
          "metadata": {},
          "execution_count": 31
        }
      ],
      "source": [
        "trainer.evaluate()"
      ]
    },
    {
      "cell_type": "markdown",
      "source": [
        "## Model Saving"
      ],
      "metadata": {
        "id": "9xjlS33LW54m"
      }
    },
    {
      "cell_type": "code",
      "execution_count": 32,
      "metadata": {
        "id": "64xbvTIJwYLl"
      },
      "outputs": [],
      "source": [
        "trainer.save_model(\"final_model\")\n",
        "\n",
        "# Evaluate on training dataset\n"
      ]
    },
    {
      "cell_type": "code",
      "execution_count": 46,
      "metadata": {
        "id": "6qrpbEno14_P"
      },
      "outputs": [],
      "source": [
        "\n",
        "trainer.save_model('/content/drive/MyDrive/final_model.h5')\n"
      ]
    },
    {
      "cell_type": "markdown",
      "source": [
        "## Results on Training , Validation and Test Datasets"
      ],
      "metadata": {
        "id": "1Chi7VmZ3Bcb"
      }
    },
    {
      "cell_type": "code",
      "execution_count": 37,
      "metadata": {
        "id": "vwM3b1eRwxpx",
        "colab": {
          "base_uri": "https://localhost:8080/",
          "height": 92
        },
        "outputId": "4eee47bb-d7f8-4816-9ce8-c07d70d79928"
      },
      "outputs": [
        {
          "output_type": "display_data",
          "data": {
            "text/plain": [
              "<IPython.core.display.HTML object>"
            ],
            "text/html": [
              "\n",
              "    <div>\n",
              "      \n",
              "      <progress value='425' max='25' style='width:300px; height:20px; vertical-align: middle;'></progress>\n",
              "      [25/25 02:03]\n",
              "    </div>\n",
              "    "
            ]
          },
          "metadata": {}
        },
        {
          "output_type": "stream",
          "name": "stdout",
          "text": [
            "Training Results: {'eval_loss': 0.3003917932510376, 'eval_roc_auc': 0.7306568408947467, 'eval_hamming_loss': 0.14812161731932505, 'eval_f1': 0.7402545892002979, 'eval_accuracy': 0.2148997134670487, 'eval_precision': 0.7174723878610284, 'eval_recall': 0.8153550455631311, 'eval_runtime': 23.3295, 'eval_samples_per_second': 59.839, 'eval_steps_per_second': 7.501, 'epoch': 5.0}\n",
            "Testing Results: {'eval_loss': 0.4043905735015869, 'eval_roc_auc': 0.6755502515513427, 'eval_hamming_loss': 0.2011111111111111, 'eval_f1': 0.6719424381476652, 'eval_accuracy': 0.125, 'eval_precision': 0.7078052122080063, 'eval_recall': 0.7569968675657848, 'eval_runtime': 3.6786, 'eval_samples_per_second': 54.369, 'eval_steps_per_second': 6.796, 'epoch': 5.0}\n"
          ]
        }
      ],
      "source": [
        "train_results = trainer.evaluate(train_dataset)\n",
        "print(\"Training Results:\", train_results)\n",
        "\n",
        "# Evaluate on testing dataset\n",
        "val_results = trainer.evaluate(val_dataset)\n",
        "print(\"Testing Results:\", val_results)\n"
      ]
    },
    {
      "cell_type": "code",
      "source": [
        "test_text_cleaned = test_text.apply(clean_text)\n",
        "\n",
        "test_text_encodings = tokenizer(test_text_cleaned.tolist(), padding=\"max_length\", truncation=True, max_length=512)\n",
        "\n",
        "test_dataset = TextClassifierDataset(test_text_encodings, test_labels, max_length)"
      ],
      "metadata": {
        "id": "pYqcy1tBcPa2"
      },
      "execution_count": 41,
      "outputs": []
    },
    {
      "cell_type": "code",
      "source": [
        "print(test_text_cleaned.iloc[5])\n"
      ],
      "metadata": {
        "colab": {
          "base_uri": "https://localhost:8080/"
        },
        "id": "GaW1h28ucsRo",
        "outputId": "d4efddfc-e8d0-49e4-a9e6-be8bdc411b62"
      },
      "execution_count": 44,
      "outputs": [
        {
          "output_type": "stream",
          "name": "stdout",
          "text": [
            "study ms aborad leave parents shy introvert person infj personalityl social anxietyi dont passion goal lifei want earn money leave stressful life people call selfish leave country ones break relationships money reality life really money many people hate saying true anyone sweet talking say money isnt everything hypocrisy want leave india one take care parents gone clinical depression lifeit happened 1015yrsmy father 60yrs old still using antidepressants sleeping pills dailyyeah time doesnt fix everyone want leave place settle foreign start new life always gone depression loneliness moving abroad worsen everything\n"
          ]
        }
      ]
    },
    {
      "cell_type": "code",
      "source": [
        "test_results = trainer.evaluate(test_dataset)\n",
        "print(\"Testing Results:\", test_results)"
      ],
      "metadata": {
        "colab": {
          "base_uri": "https://localhost:8080/",
          "height": 109
        },
        "id": "ORhGrRW9bNYJ",
        "outputId": "7fdce96c-c7bf-4343-a039-0ef1c82564a1"
      },
      "execution_count": 45,
      "outputs": [
        {
          "output_type": "display_data",
          "data": {
            "text/plain": [
              "<IPython.core.display.HTML object>"
            ],
            "text/html": [
              "\n",
              "    <div>\n",
              "      \n",
              "      <progress value='475' max='25' style='width:300px; height:20px; vertical-align: middle;'></progress>\n",
              "      [25/25 09:51]\n",
              "    </div>\n",
              "    "
            ]
          },
          "metadata": {}
        },
        {
          "output_type": "stream",
          "name": "stdout",
          "text": [
            "Testing Results: {'eval_loss': 0.3878082036972046, 'eval_roc_auc': 0.6757301789140817, 'eval_hamming_loss': 0.19194444444444445, 'eval_f1': 0.6609168300202576, 'eval_accuracy': 0.1325, 'eval_precision': 0.6043347547449441, 'eval_recall': 0.7417204981615515, 'eval_runtime': 6.3378, 'eval_samples_per_second': 63.113, 'eval_steps_per_second': 7.889, 'epoch': 5.0}\n"
          ]
        },
        {
          "output_type": "stream",
          "name": "stderr",
          "text": [
            "/usr/local/lib/python3.10/dist-packages/sklearn/metrics/_classification.py:1344: UndefinedMetricWarning: Precision is ill-defined and being set to 0.0 in labels with no predicted samples. Use `zero_division` parameter to control this behavior.\n",
            "  _warn_prf(average, modifier, msg_start, len(result))\n"
          ]
        }
      ]
    },
    {
      "cell_type": "markdown",
      "source": [
        "### Final Results for Submission\n",
        "'eval_loss': 0.3878082036972046\n",
        "\n",
        "'eval_roc_auc': 0.6757301789140817\n",
        "\n",
        "'eval_hamming_loss': 0.19194444444444445\n",
        "\n",
        "'eval_f1': 0.6609168300202576\n",
        "\n",
        "'eval_accuracy': 0.1325\n",
        "\n",
        "'eval_precision': 0.6043347547449441\n",
        "\n",
        "'eval_recall': 0.7417204981615515\n",
        "\n",
        "'eval_runtime': 6.3378\n"
      ],
      "metadata": {
        "id": "5I8wkFuY3aVK"
      }
    },
    {
      "cell_type": "markdown",
      "source": [
        "## Visualizing Predictions"
      ],
      "metadata": {
        "id": "t2xFOd4s3Qhe"
      }
    },
    {
      "cell_type": "code",
      "execution_count": 47,
      "metadata": {
        "id": "8lwP98meD0wP"
      },
      "outputs": [],
      "source": [
        "text = test_text_cleaned.iloc[5]\n",
        "encoding = tokenizer(text, return_tensors='pt')\n",
        "encoding.to(trainer.model.device)\n",
        "\n",
        "outputs = trainer.model(**encoding)"
      ]
    },
    {
      "cell_type": "code",
      "execution_count": 52,
      "metadata": {
        "id": "2dUmfPTqJt20",
        "colab": {
          "base_uri": "https://localhost:8080/"
        },
        "outputId": "b5fb346d-2456-4a11-d33c-1afb2ced0c9f"
      },
      "outputs": [
        {
          "output_type": "execute_result",
          "data": {
            "text/plain": [
              "array([[1., 1., 1., 1., 1., 0., 0., 0., 1.]])"
            ]
          },
          "metadata": {},
          "execution_count": 52
        }
      ],
      "source": [
        "sigmoid = torch.nn.Sigmoid()\n",
        "probs = sigmoid(outputs.logits[0].cpu())\n",
        "preds = np.zeros(probs.shape)\n",
        "preds[np.where(probs>=0.3)] = 1\n",
        "\n",
        "preds.reshape(1,-1) # Predicted Labels"
      ]
    },
    {
      "cell_type": "code",
      "source": [
        "print(test_labels[5]) ## Actual Labels"
      ],
      "metadata": {
        "colab": {
          "base_uri": "https://localhost:8080/"
        },
        "id": "FD8PibEnZGRU",
        "outputId": "e4965d28-6719-424f-8718-849a18d2cbe6"
      },
      "execution_count": 53,
      "outputs": [
        {
          "output_type": "stream",
          "name": "stdout",
          "text": [
            "[1 1 0 0 1 0 0 0 1]\n"
          ]
        }
      ]
    },
    {
      "cell_type": "code",
      "source": [],
      "metadata": {
        "id": "DJOJ6A17de8N"
      },
      "execution_count": null,
      "outputs": []
    }
  ],
  "metadata": {
    "accelerator": "GPU",
    "colab": {
      "gpuType": "T4",
      "provenance": []
    },
    "kernelspec": {
      "display_name": "Python 3",
      "name": "python3"
    },
    "language_info": {
      "codemirror_mode": {
        "name": "ipython",
        "version": 3
      },
      "file_extension": ".py",
      "mimetype": "text/x-python",
      "name": "python",
      "nbconvert_exporter": "python",
      "pygments_lexer": "ipython3",
      "version": "3.11.5"
    }
  },
  "nbformat": 4,
  "nbformat_minor": 0
}