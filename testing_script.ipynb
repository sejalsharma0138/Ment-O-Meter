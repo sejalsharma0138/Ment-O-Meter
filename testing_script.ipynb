{
  "nbformat": 4,
  "nbformat_minor": 0,
  "metadata": {
    "colab": {
      "provenance": []
    },
    "kernelspec": {
      "name": "python3",
      "display_name": "Python 3"
    },
    "language_info": {
      "name": "python"
    }
  },
  "cells": [
    {
      "cell_type": "code",
      "source": [
        "!pip install transformers\n"
      ],
      "metadata": {
        "colab": {
          "base_uri": "https://localhost:8080/"
        },
        "id": "6qTKXxDpgxtx",
        "outputId": "b55fa1bf-dbb4-4333-d2a7-99a466148fc2"
      },
      "execution_count": 12,
      "outputs": [
        {
          "output_type": "stream",
          "name": "stdout",
          "text": [
            "Requirement already satisfied: transformers in /usr/local/lib/python3.10/dist-packages (4.37.2)\n",
            "Requirement already satisfied: filelock in /usr/local/lib/python3.10/dist-packages (from transformers) (3.13.1)\n",
            "Requirement already satisfied: huggingface-hub<1.0,>=0.19.3 in /usr/local/lib/python3.10/dist-packages (from transformers) (0.20.3)\n",
            "Requirement already satisfied: numpy>=1.17 in /usr/local/lib/python3.10/dist-packages (from transformers) (1.25.2)\n",
            "Requirement already satisfied: packaging>=20.0 in /usr/local/lib/python3.10/dist-packages (from transformers) (23.2)\n",
            "Requirement already satisfied: pyyaml>=5.1 in /usr/local/lib/python3.10/dist-packages (from transformers) (6.0.1)\n",
            "Requirement already satisfied: regex!=2019.12.17 in /usr/local/lib/python3.10/dist-packages (from transformers) (2023.12.25)\n",
            "Requirement already satisfied: requests in /usr/local/lib/python3.10/dist-packages (from transformers) (2.31.0)\n",
            "Requirement already satisfied: tokenizers<0.19,>=0.14 in /usr/local/lib/python3.10/dist-packages (from transformers) (0.15.2)\n",
            "Requirement already satisfied: safetensors>=0.4.1 in /usr/local/lib/python3.10/dist-packages (from transformers) (0.4.2)\n",
            "Requirement already satisfied: tqdm>=4.27 in /usr/local/lib/python3.10/dist-packages (from transformers) (4.66.2)\n",
            "Requirement already satisfied: fsspec>=2023.5.0 in /usr/local/lib/python3.10/dist-packages (from huggingface-hub<1.0,>=0.19.3->transformers) (2023.6.0)\n",
            "Requirement already satisfied: typing-extensions>=3.7.4.3 in /usr/local/lib/python3.10/dist-packages (from huggingface-hub<1.0,>=0.19.3->transformers) (4.9.0)\n",
            "Requirement already satisfied: charset-normalizer<4,>=2 in /usr/local/lib/python3.10/dist-packages (from requests->transformers) (3.3.2)\n",
            "Requirement already satisfied: idna<4,>=2.5 in /usr/local/lib/python3.10/dist-packages (from requests->transformers) (3.6)\n",
            "Requirement already satisfied: urllib3<3,>=1.21.1 in /usr/local/lib/python3.10/dist-packages (from requests->transformers) (2.0.7)\n",
            "Requirement already satisfied: certifi>=2017.4.17 in /usr/local/lib/python3.10/dist-packages (from requests->transformers) (2024.2.2)\n"
          ]
        }
      ]
    },
    {
      "cell_type": "code",
      "source": [
        "from google.colab import drive\n",
        "drive.mount('/content/drive')\n",
        "\n",
        "import json\n",
        "from transformers import DistilBertTokenizer, DistilBertForSequenceClassification\n",
        "import torch\n",
        "\n",
        "# Load the saved model and tokenizer\n",
        "model_path = \"/content/drive/MyDrive/final_model.h5\"  # Update with the actual path\n",
        "checkpoint = \"distilbert-base-uncased\"\n",
        "tokenizer = DistilBertTokenizer.from_pretrained(checkpoint)\n",
        "model = DistilBertForSequenceClassification.from_pretrained(model_path)\n",
        "\n",
        "# Define the predefined annotations\n",
        "predefined_annotations = [\n",
        "    [\"Feeling-bad-about-yourself-or-that-you-are-a-failure-or-have-let-yourself-or-your-family-down\"],\n",
        "    [\"Feeling-down-depressed-or-hopeless\"],\n",
        "    [\"Feeling-tired-or-having-little-energy\"],\n",
        "    [\"Little-interest-or-pleasure-in-doing\", \"yes\"],\n",
        "    [\"Moving-or-speaking-so-slowly-that-other-people-could-have-noticed-Or-the-opposite-being-so-fidgety-or-restless-that-you-have-been-moving-around-a-lot-more-than-usual\"],\n",
        "    [\"Poor-appetite-or-overeating\"],\n",
        "    [\"Thoughts-that-you-would-be-better-off-dead-or-of-hurting-yourself-in-some-way\"],\n",
        "    [\"Trouble-concentrating-on-things-such-as-reading-the-newspaper-or-watching-television\"],\n",
        "    [\"Trouble-falling-or-staying-asleep-or-sleeping-too-much\"]\n",
        "]\n",
        "\n",
        "def predict_text(text):\n",
        "    inputs = tokenizer(text, return_tensors=\"pt\", truncation=True, padding=True)\n",
        "    outputs = model(**inputs)\n",
        "    logits = outputs.logits\n",
        "    predictions = torch.sigmoid(logits)\n",
        "\n",
        "    threshold = 0.3\n",
        "    predicted_labels = (predictions > threshold).cpu().numpy().astype(int).flatten()\n",
        "\n",
        "    return predicted_labels\n",
        "\n",
        "def process_input_json(input_json_path, output_text_path):\n",
        "    with open(input_json_path, 'r') as input_file, open(output_text_path, 'w') as output_file:\n",
        "        output_file.write(\"{\\n\\n\")\n",
        "        for entry in json.loads(input_file.read()):\n",
        "            post_text = entry.get('post_text', '')\n",
        "            post_title = entry.get('post_title', '')\n",
        "            combined_text = f\"{post_text} {post_title}\"\n",
        "            predicted_labels = predict_text(combined_text)\n",
        "            annotations_with_labels = zip(predefined_annotations, [\"no\" if label == 0 else \"yes\" for label in predicted_labels])\n",
        "            output_file.write(f\"\\t{list(annotations_with_labels)},\\n\")\n",
        "        output_file.write(\"}\\n\\n\\n\")\n",
        "        print(\"Result.txt is saved in the drive!\")\n",
        "\n",
        "if __name__ == \"__main__\":\n",
        "\n",
        "    input_json_path = \"/content/drive/MyDrive/test.json\"\n",
        "    output_text_path = \"/content/drive/MyDrive/result.txt\"\n",
        "    process_input_json(input_json_path, output_text_path)\n"
      ],
      "metadata": {
        "colab": {
          "base_uri": "https://localhost:8080/"
        },
        "id": "1F4evuZ5izRR",
        "outputId": "a52937e5-2082-4ae9-9c0f-722d6c62082c"
      },
      "execution_count": 26,
      "outputs": [
        {
          "output_type": "stream",
          "name": "stdout",
          "text": [
            "Drive already mounted at /content/drive; to attempt to forcibly remount, call drive.mount(\"/content/drive\", force_remount=True).\n",
            "Result.txt is saved in the drive!\n"
          ]
        }
      ]
    },
    {
      "cell_type": "code",
      "source": [],
      "metadata": {
        "id": "23IxEeCeuJTA"
      },
      "execution_count": null,
      "outputs": []
    }
  ]
}